{
 "cells": [
  {
   "cell_type": "markdown",
   "metadata": {
    "id": "oepgLeCEfF5S"
   },
   "source": [
    "<a id = Section302></a>\n",
    "### **3.2 Importing Libraries**"
   ]
  },
  {
   "cell_type": "code",
   "execution_count": null,
   "metadata": {
    "id": "fhmayRuHc0NG"
   },
   "outputs": [],
   "source": [
    "\n",
    "import numpy as np\n",
    "\n",
    "\n",
    "import pandas as pd\n",
    "pd.set_option('display.max_columns', None)\n",
    "pd.set_option('display.max_colwidth', None)\n",
    "pd.set_option('mode.chained_assignment', None)\n",
    "pd.set_option('display.precision', 4)\n",
    "\n",
    "#from pandas_profiling import ProfileReport\n",
    "\n",
    "# For Data Visualization\n",
    "import matplotlib.pyplot as plt\n",
    "%matplotlib inline\n",
    "\n",
    "import seaborn as sns\n",
    "\n",
    "# To Disable Warnings\n",
    "import warnings\n",
    "warnings.filterwarnings(\"ignore\")"
   ]
  },
  {
   "cell_type": "code",
   "execution_count": null,
   "metadata": {
    "id": "n8wXDwqYV6kk"
   },
   "outputs": [],
   "source": [
    "import re\n",
    "import nltk"
   ]
  },
  {
   "cell_type": "code",
   "execution_count": null,
   "metadata": {
    "id": "7NH54hj16GcY"
   },
   "outputs": [],
   "source": [
    "nltk.download('all')"
   ]
  },
  {
   "cell_type": "code",
   "execution_count": null,
   "metadata": {
    "id": "LBmEFFSsVZzi"
   },
   "outputs": [],
   "source": [
    "from wordcloud import WordCloud"
   ]
  },
  {
   "cell_type": "code",
   "execution_count": null,
   "metadata": {
    "id": "LArZiZAt6GZy"
   },
   "outputs": [],
   "source": [
    "from textblob import TextBlob\n",
    "from textblob.sentiments import NaiveBayesAnalyzer"
   ]
  },
  {
   "cell_type": "code",
   "execution_count": null,
   "metadata": {
    "id": "Z0bb44UXgG7a"
   },
   "outputs": [],
   "source": [
    "from sklearn.model_selection import train_test_split\n",
    "from sklearn.pipeline import Pipeline\n",
    "from sklearn.feature_extraction.text import TfidfVectorizer\n",
    "from sklearn.naive_bayes import MultinomialNB\n",
    "from sklearn.metrics import accuracy_score, confusion_matrix, classification_report"
   ]
  },
  {
   "cell_type": "markdown",
   "metadata": {
    "id": "33mw-1o-Ks-M"
   },
   "source": [
    "<a id = Section4></a>\n",
    "## **4. Data Loading and Dataset Description**"
   ]
  },
  {
   "cell_type": "markdown",
   "metadata": {
    "id": "fTuUVn0ac4iG"
   },
   "source": [
    "- We are provided with a **customer review** data of different **Electronic products** sold on an E-commerce platform.\n",
    "\n",
    "- This massive dataset of reviews will help us **build** a **Sentiment Analysis model** capable of classifying future reviews into their respective sentiment.\n",
    "\n",
    "- The dataset contains information about the **marketplace**, **customers**, **products**, and also contains the review information including the entire **review text** written by the customer.\n",
    "\n",
    "- Also provided in the dataset is the `star_rating`. It is the **1-5 star rating** of the review."
   ]
  },
  {
   "cell_type": "markdown",
   "metadata": {
    "id": "-S8VHMb3K6CJ"
   },
   "source": [
    "<br> \n",
    "\n",
    "| Records | Features | Dataset Size |\n",
    "| :--: | :--: | :--: |\n",
    "| 30,93,869 | 15 | 1.61 GB| \n",
    "\n",
    "<br> "
   ]
  },
  {
   "cell_type": "markdown",
   "metadata": {
    "id": "h8aSObH2Ky96"
   },
   "source": [
    "| Column | Description |\n",
    "| :--:| :--: | \n",
    "| **marketplace** | 2 letter country code of the marketplace where the review was written. |\n",
    "| **customer_id** | Random identifier that can be used to aggregate reviews written by a single author. |\n",
    "| **review_id** | The unique Product ID the review pertains to. |\n",
    "| **product_id** | Sales for the given department in the given store. |\n",
    "| **product_parent** | Random identifier that can be used to aggregate reviews for the same product. |\n",
    "| **product_title** | Title of the product. |\n",
    "| **product_category** | Broad product category that can be used to group reviews (also used to group the dataset into coherent parts). |\n",
    "| **star_rating** | The 1-5 star rating of the review. |\n",
    "| **helpful_votes** | Number of helpful votes. |\n",
    "| **total_votes** | Number of total votes the review received. |\n",
    "| **vine** | Review was written as part of the Vine program. |\n",
    "| **verified_purchase** | The review is on a verified purchase. |\n",
    "| **review_headline** | The title of the review. |\n",
    "| **review_body** | The review text. |\n",
    "| **review_date** | The date the review was written. |"
   ]
  },
  {
   "cell_type": "markdown",
   "metadata": {
    "id": "91iypYdhlH-3"
   },
   "source": [
    "<a id = Section401></a>\n",
    "### **4.1 Data Loading**"
   ]
  },
  {
   "cell_type": "code",
   "execution_count": null,
   "metadata": {
    "colab": {
     "base_uri": "https://localhost:8080/",
     "height": 381
    },
    "executionInfo": {
     "elapsed": 79722,
     "status": "ok",
     "timestamp": 1665397064626,
     "user": {
      "displayName": "Yash Chauhan",
      "userId": "13626586966350000172"
     },
     "user_tz": -330
    },
    "id": "DLfRjN1JCaNm",
    "outputId": "da77f98e-fd55-48ed-e347-bce38ae13c96"
   },
   "outputs": [
    {
     "data": {
      "text/html": [
       "\n",
       "  <div id=\"df-fe212308-d323-4872-9739-b389e10c0a3a\">\n",
       "    <div class=\"colab-df-container\">\n",
       "      <div>\n",
       "<style scoped>\n",
       "    .dataframe tbody tr th:only-of-type {\n",
       "        vertical-align: middle;\n",
       "    }\n",
       "\n",
       "    .dataframe tbody tr th {\n",
       "        vertical-align: top;\n",
       "    }\n",
       "\n",
       "    .dataframe thead th {\n",
       "        text-align: right;\n",
       "    }\n",
       "</style>\n",
       "<table border=\"1\" class=\"dataframe\">\n",
       "  <thead>\n",
       "    <tr style=\"text-align: right;\">\n",
       "      <th></th>\n",
       "      <th>marketplace</th>\n",
       "      <th>customer_id</th>\n",
       "      <th>review_id</th>\n",
       "      <th>product_id</th>\n",
       "      <th>product_parent</th>\n",
       "      <th>product_title</th>\n",
       "      <th>product_category</th>\n",
       "      <th>star_rating</th>\n",
       "      <th>helpful_votes</th>\n",
       "      <th>total_votes</th>\n",
       "      <th>vine</th>\n",
       "      <th>verified_purchase</th>\n",
       "      <th>review_headline</th>\n",
       "      <th>review_body</th>\n",
       "      <th>review_date</th>\n",
       "    </tr>\n",
       "  </thead>\n",
       "  <tbody>\n",
       "    <tr>\n",
       "      <th>0</th>\n",
       "      <td>US</td>\n",
       "      <td>41409413</td>\n",
       "      <td>R2MTG1GCZLR2DK</td>\n",
       "      <td>B00428R89M</td>\n",
       "      <td>112201306</td>\n",
       "      <td>yoomall 5M Antenna WIFI RP-SMA Female to Male Extensionl Cable</td>\n",
       "      <td>Electronics</td>\n",
       "      <td>5</td>\n",
       "      <td>0</td>\n",
       "      <td>0</td>\n",
       "      <td>N</td>\n",
       "      <td>Y</td>\n",
       "      <td>Five Stars</td>\n",
       "      <td>As described.</td>\n",
       "      <td>2015-08-31</td>\n",
       "    </tr>\n",
       "    <tr>\n",
       "      <th>1</th>\n",
       "      <td>US</td>\n",
       "      <td>49668221</td>\n",
       "      <td>R2HBOEM8LE9928</td>\n",
       "      <td>B000068O48</td>\n",
       "      <td>734576678</td>\n",
       "      <td>Hosa GPM-103 3.5mm TRS to 1/4\" TRS Adaptor</td>\n",
       "      <td>Electronics</td>\n",
       "      <td>5</td>\n",
       "      <td>0</td>\n",
       "      <td>0</td>\n",
       "      <td>N</td>\n",
       "      <td>Y</td>\n",
       "      <td>It works as advertising.</td>\n",
       "      <td>It works as advertising.</td>\n",
       "      <td>2015-08-31</td>\n",
       "    </tr>\n",
       "    <tr>\n",
       "      <th>2</th>\n",
       "      <td>US</td>\n",
       "      <td>12338275</td>\n",
       "      <td>R1P4RW1R9FDPEE</td>\n",
       "      <td>B000GGKOG8</td>\n",
       "      <td>614448099</td>\n",
       "      <td>Channel Master Titan 2 Antenna Preamplifier</td>\n",
       "      <td>Electronics</td>\n",
       "      <td>5</td>\n",
       "      <td>1</td>\n",
       "      <td>1</td>\n",
       "      <td>N</td>\n",
       "      <td>Y</td>\n",
       "      <td>Five Stars</td>\n",
       "      <td>Works pissa</td>\n",
       "      <td>2015-08-31</td>\n",
       "    </tr>\n",
       "  </tbody>\n",
       "</table>\n",
       "</div>\n",
       "      <button class=\"colab-df-convert\" onclick=\"convertToInteractive('df-fe212308-d323-4872-9739-b389e10c0a3a')\"\n",
       "              title=\"Convert this dataframe to an interactive table.\"\n",
       "              style=\"display:none;\">\n",
       "        \n",
       "  <svg xmlns=\"http://www.w3.org/2000/svg\" height=\"24px\"viewBox=\"0 0 24 24\"\n",
       "       width=\"24px\">\n",
       "    <path d=\"M0 0h24v24H0V0z\" fill=\"none\"/>\n",
       "    <path d=\"M18.56 5.44l.94 2.06.94-2.06 2.06-.94-2.06-.94-.94-2.06-.94 2.06-2.06.94zm-11 1L8.5 8.5l.94-2.06 2.06-.94-2.06-.94L8.5 2.5l-.94 2.06-2.06.94zm10 10l.94 2.06.94-2.06 2.06-.94-2.06-.94-.94-2.06-.94 2.06-2.06.94z\"/><path d=\"M17.41 7.96l-1.37-1.37c-.4-.4-.92-.59-1.43-.59-.52 0-1.04.2-1.43.59L10.3 9.45l-7.72 7.72c-.78.78-.78 2.05 0 2.83L4 21.41c.39.39.9.59 1.41.59.51 0 1.02-.2 1.41-.59l7.78-7.78 2.81-2.81c.8-.78.8-2.07 0-2.86zM5.41 20L4 18.59l7.72-7.72 1.47 1.35L5.41 20z\"/>\n",
       "  </svg>\n",
       "      </button>\n",
       "      \n",
       "  <style>\n",
       "    .colab-df-container {\n",
       "      display:flex;\n",
       "      flex-wrap:wrap;\n",
       "      gap: 12px;\n",
       "    }\n",
       "\n",
       "    .colab-df-convert {\n",
       "      background-color: #E8F0FE;\n",
       "      border: none;\n",
       "      border-radius: 50%;\n",
       "      cursor: pointer;\n",
       "      display: none;\n",
       "      fill: #1967D2;\n",
       "      height: 32px;\n",
       "      padding: 0 0 0 0;\n",
       "      width: 32px;\n",
       "    }\n",
       "\n",
       "    .colab-df-convert:hover {\n",
       "      background-color: #E2EBFA;\n",
       "      box-shadow: 0px 1px 2px rgba(60, 64, 67, 0.3), 0px 1px 3px 1px rgba(60, 64, 67, 0.15);\n",
       "      fill: #174EA6;\n",
       "    }\n",
       "\n",
       "    [theme=dark] .colab-df-convert {\n",
       "      background-color: #3B4455;\n",
       "      fill: #D2E3FC;\n",
       "    }\n",
       "\n",
       "    [theme=dark] .colab-df-convert:hover {\n",
       "      background-color: #434B5C;\n",
       "      box-shadow: 0px 1px 3px 1px rgba(0, 0, 0, 0.15);\n",
       "      filter: drop-shadow(0px 1px 2px rgba(0, 0, 0, 0.3));\n",
       "      fill: #FFFFFF;\n",
       "    }\n",
       "  </style>\n",
       "\n",
       "      <script>\n",
       "        const buttonEl =\n",
       "          document.querySelector('#df-fe212308-d323-4872-9739-b389e10c0a3a button.colab-df-convert');\n",
       "        buttonEl.style.display =\n",
       "          google.colab.kernel.accessAllowed ? 'block' : 'none';\n",
       "\n",
       "        async function convertToInteractive(key) {\n",
       "          const element = document.querySelector('#df-fe212308-d323-4872-9739-b389e10c0a3a');\n",
       "          const dataTable =\n",
       "            await google.colab.kernel.invokeFunction('convertToInteractive',\n",
       "                                                     [key], {});\n",
       "          if (!dataTable) return;\n",
       "\n",
       "          const docLinkHtml = 'Like what you see? Visit the ' +\n",
       "            '<a target=\"_blank\" href=https://colab.research.google.com/notebooks/data_table.ipynb>data table notebook</a>'\n",
       "            + ' to learn more about interactive tables.';\n",
       "          element.innerHTML = '';\n",
       "          dataTable['output_type'] = 'display_data';\n",
       "          await google.colab.output.renderOutput(dataTable, element);\n",
       "          const docLink = document.createElement('div');\n",
       "          docLink.innerHTML = docLinkHtml;\n",
       "          element.appendChild(docLink);\n",
       "        }\n",
       "      </script>\n",
       "    </div>\n",
       "  </div>\n",
       "  "
      ],
      "text/plain": [
       "  marketplace  customer_id       review_id  product_id  product_parent  \\\n",
       "0          US     41409413  R2MTG1GCZLR2DK  B00428R89M       112201306   \n",
       "1          US     49668221  R2HBOEM8LE9928  B000068O48       734576678   \n",
       "2          US     12338275  R1P4RW1R9FDPEE  B000GGKOG8       614448099   \n",
       "\n",
       "                                                    product_title  \\\n",
       "0  yoomall 5M Antenna WIFI RP-SMA Female to Male Extensionl Cable   \n",
       "1                      Hosa GPM-103 3.5mm TRS to 1/4\" TRS Adaptor   \n",
       "2                     Channel Master Titan 2 Antenna Preamplifier   \n",
       "\n",
       "  product_category  star_rating  helpful_votes  total_votes vine  \\\n",
       "0      Electronics            5              0            0    N   \n",
       "1      Electronics            5              0            0    N   \n",
       "2      Electronics            5              1            1    N   \n",
       "\n",
       "  verified_purchase           review_headline               review_body  \\\n",
       "0                 Y                Five Stars             As described.   \n",
       "1                 Y  It works as advertising.  It works as advertising.   \n",
       "2                 Y                Five Stars               Works pissa   \n",
       "\n",
       "  review_date  \n",
       "0  2015-08-31  \n",
       "1  2015-08-31  \n",
       "2  2015-08-31  "
      ]
     },
     "execution_count": 2,
     "metadata": {},
     "output_type": "execute_result"
    }
   ],
   "source": [
    "reviews_df = pd.read_csv('https://storage.googleapis.com/retail-analytics-data/reviews_us_Electronics_v1_00.tsv', sep='\\t', quoting=3)\n",
    "reviews_df.head(3)"
   ]
  },
  {
   "cell_type": "markdown",
   "metadata": {
    "id": "aXNfjM3brI2C"
   },
   "source": [
    "<a id = Section403></a>\n",
    "### **4.2 Dataset Description**"
   ]
  },
  {
   "cell_type": "code",
   "execution_count": null,
   "metadata": {
    "colab": {
     "base_uri": "https://localhost:8080/",
     "height": 294
    },
    "executionInfo": {
     "elapsed": 116157,
     "status": "ok",
     "timestamp": 1589444903892,
     "user": {
      "displayName": "Suchit Majumdar",
      "photoUrl": "",
      "userId": "17036306179367680212"
     },
     "user_tz": -330
    },
    "id": "Oukp5DaPQyX5",
    "outputId": "c925b4f8-9599-41b3-934f-0554cbdf9e24"
   },
   "outputs": [
    {
     "data": {
      "text/html": [
       "<div>\n",
       "<style scoped>\n",
       "    .dataframe tbody tr th:only-of-type {\n",
       "        vertical-align: middle;\n",
       "    }\n",
       "\n",
       "    .dataframe tbody tr th {\n",
       "        vertical-align: top;\n",
       "    }\n",
       "\n",
       "    .dataframe thead th {\n",
       "        text-align: right;\n",
       "    }\n",
       "</style>\n",
       "<table border=\"1\" class=\"dataframe\">\n",
       "  <thead>\n",
       "    <tr style=\"text-align: right;\">\n",
       "      <th></th>\n",
       "      <th>customer_id</th>\n",
       "      <th>product_parent</th>\n",
       "      <th>star_rating</th>\n",
       "      <th>helpful_votes</th>\n",
       "      <th>total_votes</th>\n",
       "    </tr>\n",
       "  </thead>\n",
       "  <tbody>\n",
       "    <tr>\n",
       "      <th>count</th>\n",
       "      <td>3.0939e+06</td>\n",
       "      <td>3.0939e+06</td>\n",
       "      <td>3.0939e+06</td>\n",
       "      <td>3.0939e+06</td>\n",
       "      <td>3.0939e+06</td>\n",
       "    </tr>\n",
       "    <tr>\n",
       "      <th>mean</th>\n",
       "      <td>2.8789e+07</td>\n",
       "      <td>5.1020e+08</td>\n",
       "      <td>4.0355e+00</td>\n",
       "      <td>1.8598e+00</td>\n",
       "      <td>2.3711e+00</td>\n",
       "    </tr>\n",
       "    <tr>\n",
       "      <th>std</th>\n",
       "      <td>1.5431e+07</td>\n",
       "      <td>2.8683e+08</td>\n",
       "      <td>1.3874e+00</td>\n",
       "      <td>2.1328e+01</td>\n",
       "      <td>2.2487e+01</td>\n",
       "    </tr>\n",
       "    <tr>\n",
       "      <th>min</th>\n",
       "      <td>1.0005e+04</td>\n",
       "      <td>6.4780e+03</td>\n",
       "      <td>1.0000e+00</td>\n",
       "      <td>0.0000e+00</td>\n",
       "      <td>0.0000e+00</td>\n",
       "    </tr>\n",
       "    <tr>\n",
       "      <th>25%</th>\n",
       "      <td>1.5037e+07</td>\n",
       "      <td>2.6236e+08</td>\n",
       "      <td>3.0000e+00</td>\n",
       "      <td>0.0000e+00</td>\n",
       "      <td>0.0000e+00</td>\n",
       "    </tr>\n",
       "    <tr>\n",
       "      <th>50%</th>\n",
       "      <td>2.8063e+07</td>\n",
       "      <td>5.0855e+08</td>\n",
       "      <td>5.0000e+00</td>\n",
       "      <td>0.0000e+00</td>\n",
       "      <td>0.0000e+00</td>\n",
       "    </tr>\n",
       "    <tr>\n",
       "      <th>75%</th>\n",
       "      <td>4.3279e+07</td>\n",
       "      <td>7.6324e+08</td>\n",
       "      <td>5.0000e+00</td>\n",
       "      <td>1.0000e+00</td>\n",
       "      <td>1.0000e+00</td>\n",
       "    </tr>\n",
       "    <tr>\n",
       "      <th>max</th>\n",
       "      <td>5.3097e+07</td>\n",
       "      <td>1.0000e+09</td>\n",
       "      <td>5.0000e+00</td>\n",
       "      <td>1.2786e+04</td>\n",
       "      <td>1.2944e+04</td>\n",
       "    </tr>\n",
       "  </tbody>\n",
       "</table>\n",
       "</div>"
      ],
      "text/plain": [
       "       customer_id  product_parent  star_rating  helpful_votes  total_votes\n",
       "count   3.0939e+06      3.0939e+06   3.0939e+06     3.0939e+06   3.0939e+06\n",
       "mean    2.8789e+07      5.1020e+08   4.0355e+00     1.8598e+00   2.3711e+00\n",
       "std     1.5431e+07      2.8683e+08   1.3874e+00     2.1328e+01   2.2487e+01\n",
       "min     1.0005e+04      6.4780e+03   1.0000e+00     0.0000e+00   0.0000e+00\n",
       "25%     1.5037e+07      2.6236e+08   3.0000e+00     0.0000e+00   0.0000e+00\n",
       "50%     2.8063e+07      5.0855e+08   5.0000e+00     0.0000e+00   0.0000e+00\n",
       "75%     4.3279e+07      7.6324e+08   5.0000e+00     1.0000e+00   1.0000e+00\n",
       "max     5.3097e+07      1.0000e+09   5.0000e+00     1.2786e+04   1.2944e+04"
      ]
     },
     "execution_count": 10,
     "metadata": {
      "tags": []
     },
     "output_type": "execute_result"
    }
   ],
   "source": [
    "reviews_df.describe()"
   ]
  },
  {
   "cell_type": "markdown",
   "metadata": {
    "id": "PPD_0uI8rSIv"
   },
   "source": [
    "**Observations:**\n",
    "\n",
    "- Most of the columns in the dataset contain **textual data** and hence are not shown in the `describe` function output.\n",
    "\n",
    "- **star_rating** column has a **mean** of **4** and a **median** of **5**.\n",
    "  \n",
    "  - This implies that it is **negative** (**left**) skewed.\n"
   ]
  },
  {
   "cell_type": "markdown",
   "metadata": {
    "id": "9Ckp-LUAu5mQ"
   },
   "source": [
    "<a id = Section404></a>\n",
    "### **4.3 Pandas Profiling before Data Preprocessing**"
   ]
  },
  {
   "cell_type": "markdown",
   "metadata": {
    "id": "52j9RdMl6CWW"
   },
   "source": [
    "- Using **pandas-profiling** to quickly *analyse* our data.\n",
    "\n",
    "- This will take some time."
   ]
  },
  {
   "cell_type": "code",
   "execution_count": null,
   "metadata": {
    "id": "7KNjQUM46CWf",
    "run_control": {
     "marked": false
    }
   },
   "outputs": [],
   "source": [
    "profile = ProfileReport(reviews_df, progress_bar=False, minimal=True)"
   ]
  },
  {
   "cell_type": "code",
   "execution_count": null,
   "metadata": {
    "id": "jCv44vv1Qyan"
   },
   "outputs": [],
   "source": [
    "profile.to_file(output_file=\"Pre_Profiling_Report.html\")\n",
    "print('Pre-Profiling Accomplished!')"
   ]
  },
  {
   "cell_type": "markdown",
   "metadata": {
    "id": "pBsf158Z0Bm2"
   },
   "source": [
    "**Observations:**\n",
    "\n",
    "- There are **15 variables** and **3093869 observations** in the dataset.\n",
    "\n",
    "- There are **123 missing** cells (**less than 0.1%** of all cells) in the data.\n",
    "\n",
    "- Of all the 16 variables **8** are **categorical**, **5** are **numerical** and **2** are **boolean**.\n",
    "\n",
    "- `review_id` column has a high cardinality with **3093869** distinct values.\n",
    "\n",
    "- `customer_id` column has a high cardinality with **2154357** distinct values.\n",
    "\n",
    "- `product_id` column has a high cardinality with **185852** distinct values.\n",
    "\n",
    "- `product_title` column has a high cardinality with **167933** distinct values.\n",
    "\n",
    "- `product_parent` column has a high cardinality with **166244** distinct values.\n",
    "\n",
    "- `review_headline` column has a high cardinality with **1637220** distinct values.\n",
    "\n",
    "- `review_body` column has a high cardinality with **2897248** distinct values.\n",
    "\n",
    "  - This column will provide us the **data** required to **build** our Sentiment Analysis Model.\n",
    "\n",
    "- `review_date` column has a high cardinality with **5904** distinct values.\n",
    "\n",
    "- `marketplace` column contains only a **single** value throughout the dataset i. e. **US**\n",
    "\n",
    "- `product_category` column contains only a **single** value throughout the dataset i. e. **Electronics**\n",
    "\n",
    "- `vine` and `verified_purchase` columns both have two distinct values: **Y**, and **N**\n",
    "\n",
    "- `star_rating` is the target variable.\n",
    "\n",
    "  - It contains **5** different **rating values**.\n",
    "\n",
    "  - They are **1**, **2**, **3**, **4**, and **5**.\n",
    "\n",
    "  - **5** is the **most common** value in the `star_rating` column."
   ]
  },
  {
   "cell_type": "markdown",
   "metadata": {
    "id": "SjjgouCUKco8"
   },
   "source": [
    "<a id = Section5></a>\n",
    "## **5. Data Pre-Processing**"
   ]
  },
  {
   "cell_type": "markdown",
   "metadata": {
    "id": "MvNc7ikaNRID"
   },
   "source": [
    "<a id = Section501></a>\n",
    "### **5.1 Assign String DataType to Review Body**"
   ]
  },
  {
   "cell_type": "markdown",
   "metadata": {
    "id": "G6kycCvZBiUr"
   },
   "source": [
    "- Currently, the `review_body` column doesn't have a uniform datatype for all the observations in the data.\n",
    "\n",
    "- As a result, it will give **errors** when subjected to string operations.\n",
    "\n",
    "- So we will assign a **string** datatype to the entire column to prevent such errors."
   ]
  },
  {
   "cell_type": "code",
   "execution_count": null,
   "metadata": {
    "id": "fzxQQ1KzeQ71"
   },
   "outputs": [],
   "source": [
    "reviews_df['review_body'] = reviews_df['review_body'].astype(str)"
   ]
  },
  {
   "cell_type": "markdown",
   "metadata": {
    "id": "USYBERc7HpiC"
   },
   "source": [
    "- Now, the `review_body` column will have a **string** datatype for each observation in the data."
   ]
  },
  {
   "cell_type": "markdown",
   "metadata": {
    "id": "TRRcHAhtHr6t"
   },
   "source": [
    "<a id = Section502></a>\n",
    "### **5.2 Cleaning the Reviews**"
   ]
  },
  {
   "cell_type": "markdown",
   "metadata": {
    "id": "HjHy43DyImo3"
   },
   "source": [
    "- Here, we will **clean** the review data by:\n",
    "\n",
    "  - **Changing** the **case** of each word to **lowercase**.\n",
    "\n",
    "  - **Fixing** certain words like *i'm to i am*, *he's to he is*, *she's to she is*, etc.\n",
    "\n",
    "  - **Removing** all the **punctuation marks** from each review.\n",
    "\n",
    "  - **Removing** any additional white space from each review.\n",
    "\n",
    "- Then, we will **create** a new column in the dataset `clean_reviews`, that will contain all the cleaned reviews."
   ]
  },
  {
   "cell_type": "markdown",
   "metadata": {
    "id": "HGmxpDjnJgps"
   },
   "source": [
    "- Creating a function `clean_text` that will help us in **cleaning** the **reviews** and **saving** them."
   ]
  },
  {
   "cell_type": "code",
   "execution_count": null,
   "metadata": {
    "id": "vUYW82KWbw22"
   },
   "outputs": [],
   "source": [
    "# Creating a helper function to clean the text.\n",
    "def clean_text(text):\n",
    "\n",
    "    text = text.lower().strip()\n",
    "    text = re.sub(r\"i'm\", \"i am\", text)\n",
    "    text = re.sub(r\"he's\", \"he is\", text)\n",
    "    text = re.sub(r\"she's\", \"she is\", text)\n",
    "    text = re.sub(r\"that's\", \"that is\", text)\n",
    "    text = re.sub(r\"what's\", \"what is\", text)\n",
    "    text = re.sub(r\"where's\", \"where is\", text)\n",
    "    text = re.sub(r\"how's\", \"how is\", text)\n",
    "    text = re.sub(r\"\\'s\", \" is\", text)\n",
    "    text = re.sub(r\"\\'ll\", \" will\", text)\n",
    "    text = re.sub(r\"\\'ve\", \" have\", text)\n",
    "    text = re.sub(r\"\\'re\", \" are\", text)\n",
    "    text = re.sub(r\"\\'d\", \" would\", text)\n",
    "    text = re.sub(r\"won't\", \"will not\", text)\n",
    "    text = re.sub(r\"can't\", \"cannot\", text)\n",
    "    text = re.sub(r\"n't\", \" not\", text)\n",
    "    text = re.sub(r\"<br>\", \" \", text)\n",
    "\n",
    "    #Complex Expression\n",
    "    text = re.sub(r\"([-?.!,/\\\"])\", r\" \\1 \", text)\n",
    "    text = re.sub(r\"[-()\\\"#/@;:<>{}`+=~|.!?,']\", \"\", text)\n",
    "    text = re.sub(r\"[ ]+\", \" \", text)\n",
    "    text = text.rstrip().strip()\n",
    "\n",
    "    return text"
   ]
  },
  {
   "cell_type": "markdown",
   "metadata": {
    "id": "WrekaZ2qidMN"
   },
   "source": [
    "**Complicated Regex**\n",
    "\n",
    "- This regex will **add** a **space before** and **after** any of **-?.!,/\\\"** \n",
    "\n",
    "- Here, if any of these characters is found in the text, it will become a capture group.\n",
    "\n",
    "  - Anything in **()** is a **capture group** in **r\"([-?.!,/\\\"])\"**.\n",
    "\n",
    "  - It is then denoted by **\\\\1**, and is **replaced** by that character with a space before and after it.\n",
    "\n",
    "- This will help us **separate words** from these **characters**, and as a result will provide a cleaner text."
   ]
  },
  {
   "cell_type": "code",
   "execution_count": null,
   "metadata": {
    "colab": {
     "base_uri": "https://localhost:8080/",
     "height": 35
    },
    "executionInfo": {
     "elapsed": 117267,
     "status": "ok",
     "timestamp": 1589444905030,
     "user": {
      "displayName": "Suchit Majumdar",
      "photoUrl": "",
      "userId": "17036306179367680212"
     },
     "user_tz": -330
    },
    "id": "gQQCGPqMePgp",
    "outputId": "6139b71d-9038-47a1-be48-050f0b6c6a7f"
   },
   "outputs": [
    {
     "data": {
      "text/plain": [
       "'Hi ! '"
      ]
     },
     "execution_count": 15,
     "metadata": {
      "tags": []
     },
     "output_type": "execute_result"
    }
   ],
   "source": [
    "re.sub(r\"([-!?.,/\\\"])\", r\" \\1 \", 'Hi!')"
   ]
  },
  {
   "cell_type": "markdown",
   "metadata": {
    "id": "7kstXp0SjO-i"
   },
   "source": [
    "- Here, we can see a **space** is **added** between **Hi** and **!**"
   ]
  },
  {
   "cell_type": "markdown",
   "metadata": {
    "id": "Tp97Cc0ojO5p"
   },
   "source": [
    "- This regex will **remove** any of these **characters -()\\\"#/@;:<>{}`+=~|.!?,'** from the text."
   ]
  },
  {
   "cell_type": "code",
   "execution_count": null,
   "metadata": {
    "colab": {
     "base_uri": "https://localhost:8080/",
     "height": 35
    },
    "executionInfo": {
     "elapsed": 117259,
     "status": "ok",
     "timestamp": 1589444905031,
     "user": {
      "displayName": "Suchit Majumdar",
      "photoUrl": "",
      "userId": "17036306179367680212"
     },
     "user_tz": -330
    },
    "id": "6MWn-IRXePeJ",
    "outputId": "a53298c5-c452-4f91-8857-ffdb356f2ae7"
   },
   "outputs": [
    {
     "data": {
      "text/plain": [
       "'Hi '"
      ]
     },
     "execution_count": 16,
     "metadata": {
      "tags": []
     },
     "output_type": "execute_result"
    }
   ],
   "source": [
    "re.sub(r\"[-()\\\"#/@;:<>{}`+=~|.!?,']\", \"\", 'Hi ! ')"
   ]
  },
  {
   "cell_type": "markdown",
   "metadata": {
    "id": "tcOk7pHCjQr2"
   },
   "source": [
    "- **!** is **removed** from **Hi !**"
   ]
  },
  {
   "cell_type": "markdown",
   "metadata": {
    "id": "v7CPGnVvjQnr"
   },
   "source": [
    "- Using this regex, **more than one space** is **replaced** by a **single space**.\n",
    "\n",
    "- Here, **+** denotes **more than one**.\n",
    "\n",
    "- If there is more than a single space in the text at once, only then it will be replaced by a single space."
   ]
  },
  {
   "cell_type": "code",
   "execution_count": null,
   "metadata": {
    "colab": {
     "base_uri": "https://localhost:8080/",
     "height": 35
    },
    "executionInfo": {
     "elapsed": 117250,
     "status": "ok",
     "timestamp": 1589444905031,
     "user": {
      "displayName": "Suchit Majumdar",
      "photoUrl": "",
      "userId": "17036306179367680212"
     },
     "user_tz": -330
    },
    "id": "QPDkp32cePV4",
    "outputId": "feca12f2-a97c-4ab4-c80f-15620fabd316"
   },
   "outputs": [
    {
     "data": {
      "text/plain": [
       "'Hi how are you'"
      ]
     },
     "execution_count": 17,
     "metadata": {
      "tags": []
     },
     "output_type": "execute_result"
    }
   ],
   "source": [
    "re.sub(r\"[ ]+\", \" \", 'Hi   how are you')"
   ]
  },
  {
   "cell_type": "markdown",
   "metadata": {
    "id": "4X1F2wh3jRz3"
   },
   "source": [
    "- **3 spaces** in the above text is **replaced** by a **single space**."
   ]
  },
  {
   "cell_type": "markdown",
   "metadata": {
    "id": "fKOKADwgnARY"
   },
   "source": [
    "**Creating Clean Reviews**"
   ]
  },
  {
   "cell_type": "markdown",
   "metadata": {
    "id": "ebyD5P2eJ5OD"
   },
   "source": [
    "- Creating a **corpus** of cleaned reviews using the `clean_text` function on **review_body** column of `reviews_df`.\n",
    "\n",
    "- This will take some time."
   ]
  },
  {
   "cell_type": "code",
   "execution_count": null,
   "metadata": {
    "colab": {
     "base_uri": "https://localhost:8080/",
     "height": 673
    },
    "executionInfo": {
     "elapsed": 307105,
     "status": "ok",
     "timestamp": 1589445094888,
     "user": {
      "displayName": "Suchit Majumdar",
      "photoUrl": "",
      "userId": "17036306179367680212"
     },
     "user_tz": -330
    },
    "id": "5ht1EAGadHEC",
    "outputId": "3b82b893-5d37-474f-8ae0-a96a8703d929"
   },
   "outputs": [
    {
     "data": {
      "text/html": [
       "<div>\n",
       "<style scoped>\n",
       "    .dataframe tbody tr th:only-of-type {\n",
       "        vertical-align: middle;\n",
       "    }\n",
       "\n",
       "    .dataframe tbody tr th {\n",
       "        vertical-align: top;\n",
       "    }\n",
       "\n",
       "    .dataframe thead th {\n",
       "        text-align: right;\n",
       "    }\n",
       "</style>\n",
       "<table border=\"1\" class=\"dataframe\">\n",
       "  <thead>\n",
       "    <tr style=\"text-align: right;\">\n",
       "      <th></th>\n",
       "      <th>marketplace</th>\n",
       "      <th>customer_id</th>\n",
       "      <th>review_id</th>\n",
       "      <th>product_id</th>\n",
       "      <th>product_parent</th>\n",
       "      <th>product_title</th>\n",
       "      <th>product_category</th>\n",
       "      <th>star_rating</th>\n",
       "      <th>helpful_votes</th>\n",
       "      <th>total_votes</th>\n",
       "      <th>vine</th>\n",
       "      <th>verified_purchase</th>\n",
       "      <th>review_headline</th>\n",
       "      <th>review_body</th>\n",
       "      <th>review_date</th>\n",
       "      <th>clean_reviews</th>\n",
       "    </tr>\n",
       "  </thead>\n",
       "  <tbody>\n",
       "    <tr>\n",
       "      <th>0</th>\n",
       "      <td>US</td>\n",
       "      <td>41409413</td>\n",
       "      <td>R2MTG1GCZLR2DK</td>\n",
       "      <td>B00428R89M</td>\n",
       "      <td>112201306</td>\n",
       "      <td>yoomall 5M Antenna WIFI RP-SMA Female to Male Extensionl Cable</td>\n",
       "      <td>Electronics</td>\n",
       "      <td>5</td>\n",
       "      <td>0</td>\n",
       "      <td>0</td>\n",
       "      <td>N</td>\n",
       "      <td>Y</td>\n",
       "      <td>Five Stars</td>\n",
       "      <td>As described.</td>\n",
       "      <td>2015-08-31</td>\n",
       "      <td>as described</td>\n",
       "    </tr>\n",
       "    <tr>\n",
       "      <th>1</th>\n",
       "      <td>US</td>\n",
       "      <td>49668221</td>\n",
       "      <td>R2HBOEM8LE9928</td>\n",
       "      <td>B000068O48</td>\n",
       "      <td>734576678</td>\n",
       "      <td>Hosa GPM-103 3.5mm TRS to 1/4\" TRS Adaptor</td>\n",
       "      <td>Electronics</td>\n",
       "      <td>5</td>\n",
       "      <td>0</td>\n",
       "      <td>0</td>\n",
       "      <td>N</td>\n",
       "      <td>Y</td>\n",
       "      <td>It works as advertising.</td>\n",
       "      <td>It works as advertising.</td>\n",
       "      <td>2015-08-31</td>\n",
       "      <td>it works as advertising</td>\n",
       "    </tr>\n",
       "    <tr>\n",
       "      <th>2</th>\n",
       "      <td>US</td>\n",
       "      <td>12338275</td>\n",
       "      <td>R1P4RW1R9FDPEE</td>\n",
       "      <td>B000GGKOG8</td>\n",
       "      <td>614448099</td>\n",
       "      <td>Channel Master Titan 2 Antenna Preamplifier</td>\n",
       "      <td>Electronics</td>\n",
       "      <td>5</td>\n",
       "      <td>1</td>\n",
       "      <td>1</td>\n",
       "      <td>N</td>\n",
       "      <td>Y</td>\n",
       "      <td>Five Stars</td>\n",
       "      <td>Works pissa</td>\n",
       "      <td>2015-08-31</td>\n",
       "      <td>works pissa</td>\n",
       "    </tr>\n",
       "    <tr>\n",
       "      <th>3</th>\n",
       "      <td>US</td>\n",
       "      <td>38487968</td>\n",
       "      <td>R1EBPM82ENI67M</td>\n",
       "      <td>B000NU4OTA</td>\n",
       "      <td>72265257</td>\n",
       "      <td>LIMTECH Wall charger + USB Hotsync &amp; Charging Dock Cradle desktop Charger for Apple IPOD Shuffle 2nd Generation MP3 Player</td>\n",
       "      <td>Electronics</td>\n",
       "      <td>1</td>\n",
       "      <td>0</td>\n",
       "      <td>0</td>\n",
       "      <td>N</td>\n",
       "      <td>Y</td>\n",
       "      <td>One Star</td>\n",
       "      <td>Did not work at all.</td>\n",
       "      <td>2015-08-31</td>\n",
       "      <td>did not work at all</td>\n",
       "    </tr>\n",
       "    <tr>\n",
       "      <th>4</th>\n",
       "      <td>US</td>\n",
       "      <td>23732619</td>\n",
       "      <td>R372S58V6D11AT</td>\n",
       "      <td>B00JOQIO6S</td>\n",
       "      <td>308169188</td>\n",
       "      <td>Skullcandy Air Raid Portable Bluetooth Speaker</td>\n",
       "      <td>Electronics</td>\n",
       "      <td>5</td>\n",
       "      <td>1</td>\n",
       "      <td>1</td>\n",
       "      <td>N</td>\n",
       "      <td>Y</td>\n",
       "      <td>Overall pleased with the item</td>\n",
       "      <td>Works well. Bass is somewhat lacking but is present. Overall pleased with the item.</td>\n",
       "      <td>2015-08-31</td>\n",
       "      <td>works well bass is somewhat lacking but is present overall pleased with the item</td>\n",
       "    </tr>\n",
       "  </tbody>\n",
       "</table>\n",
       "</div>"
      ],
      "text/plain": [
       "  marketplace  customer_id       review_id  product_id  product_parent  \\\n",
       "0          US     41409413  R2MTG1GCZLR2DK  B00428R89M       112201306   \n",
       "1          US     49668221  R2HBOEM8LE9928  B000068O48       734576678   \n",
       "2          US     12338275  R1P4RW1R9FDPEE  B000GGKOG8       614448099   \n",
       "3          US     38487968  R1EBPM82ENI67M  B000NU4OTA        72265257   \n",
       "4          US     23732619  R372S58V6D11AT  B00JOQIO6S       308169188   \n",
       "\n",
       "                                                                                                                product_title  \\\n",
       "0                                                              yoomall 5M Antenna WIFI RP-SMA Female to Male Extensionl Cable   \n",
       "1                                                                                  Hosa GPM-103 3.5mm TRS to 1/4\" TRS Adaptor   \n",
       "2                                                                                 Channel Master Titan 2 Antenna Preamplifier   \n",
       "3  LIMTECH Wall charger + USB Hotsync & Charging Dock Cradle desktop Charger for Apple IPOD Shuffle 2nd Generation MP3 Player   \n",
       "4                                                                              Skullcandy Air Raid Portable Bluetooth Speaker   \n",
       "\n",
       "  product_category  star_rating  helpful_votes  total_votes vine  \\\n",
       "0      Electronics            5              0            0    N   \n",
       "1      Electronics            5              0            0    N   \n",
       "2      Electronics            5              1            1    N   \n",
       "3      Electronics            1              0            0    N   \n",
       "4      Electronics            5              1            1    N   \n",
       "\n",
       "  verified_purchase                review_headline  \\\n",
       "0                 Y                     Five Stars   \n",
       "1                 Y       It works as advertising.   \n",
       "2                 Y                     Five Stars   \n",
       "3                 Y                       One Star   \n",
       "4                 Y  Overall pleased with the item   \n",
       "\n",
       "                                                                           review_body  \\\n",
       "0                                                                        As described.   \n",
       "1                                                             It works as advertising.   \n",
       "2                                                                          Works pissa   \n",
       "3                                                                 Did not work at all.   \n",
       "4  Works well. Bass is somewhat lacking but is present. Overall pleased with the item.   \n",
       "\n",
       "  review_date  \\\n",
       "0  2015-08-31   \n",
       "1  2015-08-31   \n",
       "2  2015-08-31   \n",
       "3  2015-08-31   \n",
       "4  2015-08-31   \n",
       "\n",
       "                                                                      clean_reviews  \n",
       "0                                                                      as described  \n",
       "1                                                           it works as advertising  \n",
       "2                                                                       works pissa  \n",
       "3                                                               did not work at all  \n",
       "4  works well bass is somewhat lacking but is present overall pleased with the item  "
      ]
     },
     "execution_count": 18,
     "metadata": {
      "tags": []
     },
     "output_type": "execute_result"
    }
   ],
   "source": [
    "reviews_df['clean_reviews'] = reviews_df['review_body'].apply(lambda x:clean_text(x))\n",
    "reviews_df.head()"
   ]
  },
  {
   "cell_type": "markdown",
   "metadata": {
    "id": "QJ5O47YaKgHB"
   },
   "source": [
    "- We can see `clean_reviews` column contain all the **cleaned reviews** in the dataset."
   ]
  },
  {
   "cell_type": "markdown",
   "metadata": {
    "id": "-S83meK8UUOP"
   },
   "source": [
    "<a id = Section503></a>\n",
    "### **5.3 Calculating Polarity and Subjectivity of Reviews**"
   ]
  },
  {
   "cell_type": "markdown",
   "metadata": {
    "id": "X27cN_-GDXnL"
   },
   "source": [
    "- **Polarity** is a float value within the range **[-1.0 to 1.0]**.\n",
    "  \n",
    "  - Here, **0** indicates **neutral**,\n",
    "  \n",
    "  - **+1** indicates a **very positive** sentiment, and\n",
    "  \n",
    "  - **-1** represents a **very negative** sentiment.\n",
    "\n",
    "- **Subjectivity** is a float value within the range **[0.0 to 1.0]**.\n",
    "\n",
    "  - Here, **0.0** is **very objective**, and\n",
    "  \n",
    "  - **1.0** is **very subjective**. \n",
    "  \n",
    "  - **Subjective** sentence **express** some *personal feelings, views, beliefs, opinions, allegations, desires, beliefs, suspicions, and speculations*.\n",
    "\n",
    "  - **Objective** sentences are **factual**."
   ]
  },
  {
   "cell_type": "markdown",
   "metadata": {
    "id": "G3PdNY5Lj8P5"
   },
   "source": [
    "- We will use `textblob` library's **TextBlob** class to find the **polarity** and **subjectivity** values for each review."
   ]
  },
  {
   "cell_type": "code",
   "execution_count": null,
   "metadata": {
    "colab": {
     "base_uri": "https://localhost:8080/",
     "height": 191
    },
    "executionInfo": {
     "elapsed": 307103,
     "status": "ok",
     "timestamp": 1589445094889,
     "user": {
      "displayName": "Suchit Majumdar",
      "photoUrl": "",
      "userId": "17036306179367680212"
     },
     "user_tz": -330
    },
    "id": "Yli2b8-5AD0a",
    "outputId": "fde54dcd-4692-45c3-a859-c9a40edb4572"
   },
   "outputs": [
    {
     "name": "stdout",
     "output_type": "stream",
     "text": [
      "alll good :  Sentiment(polarity=0.7, subjectivity=0.6000000000000001) \n",
      "\n",
      "love clock radio & cd player easy to operate :  Sentiment(polarity=0.4666666666666667, subjectivity=0.7166666666666667) \n",
      "\n",
      "breaks very easily and takes a while to load music :  Sentiment(polarity=0.5633333333333334, subjectivity=1.0) \n",
      "\n",
      "excellent gain in radio frequency reception over the stock antenna that came with the radio :  Sentiment(polarity=1.0, subjectivity=1.0) \n",
      "\n",
      "everything i expected for a great price :  Sentiment(polarity=0.35000000000000003, subjectivity=0.575) \n",
      "\n"
     ]
    }
   ],
   "source": [
    "for review in reviews_df['clean_reviews'][10:15]:\n",
    "    blob = TextBlob(review)\n",
    "    print(review, ': ', blob.sentiment, '\\n')"
   ]
  },
  {
   "cell_type": "markdown",
   "metadata": {
    "id": "H91RuJTejzEt"
   },
   "source": [
    "- Here, we can see the *polarity* and *subjectivity* values for the **first 5 reviews** in the dataset.\n",
    "\n",
    "- **First 4** reviews have a **neutral sentiment** according to the polarity values equal to **0**.\n",
    "\n",
    "- **Fifth** review has a slightly **positive sentiment** with a polarity of **0.0875**"
   ]
  },
  {
   "cell_type": "markdown",
   "metadata": {
    "id": "pjUP8X0wj0su"
   },
   "source": [
    "**Calculating the Polarity and Subjectivity of Cleaned Reviews**"
   ]
  },
  {
   "cell_type": "markdown",
   "metadata": {
    "id": "8N0NH6KSnyN_"
   },
   "source": [
    "- Using TextBlob to **calculate** the **polarity**  and **subjectivity** values for each cleaned review.\n",
    "\n",
    "- These values are then **appended** to `polarity` and `subjectivity` lists.\n",
    "\n",
    "- This will take some time."
   ]
  },
  {
   "cell_type": "code",
   "execution_count": null,
   "metadata": {
    "colab": {
     "base_uri": "https://localhost:8080/",
     "height": 52
    },
    "executionInfo": {
     "elapsed": 2650267,
     "status": "ok",
     "timestamp": 1589447438055,
     "user": {
      "displayName": "Suchit Majumdar",
      "photoUrl": "",
      "userId": "17036306179367680212"
     },
     "user_tz": -330
    },
    "id": "-9I6LI_xWF2k",
    "outputId": "e23f0842-e437-482c-97a2-2eb9ebe1f695"
   },
   "outputs": [
    {
     "name": "stdout",
     "output_type": "stream",
     "text": [
      "CPU times: user 38min 52s, sys: 9.81 s, total: 39min 2s\n",
      "Wall time: 39min 3s\n"
     ]
    }
   ],
   "source": [
    "%%time\n",
    "polarity = []\n",
    "subjectivity = []\n",
    "\n",
    "for review in reviews_df['clean_reviews']:\n",
    "    blob = TextBlob(review)\n",
    "    polarity.append(blob.sentiment.polarity)\n",
    "    subjectivity.append(blob.sentiment.subjectivity)"
   ]
  },
  {
   "cell_type": "markdown",
   "metadata": {
    "id": "YsbDSoHSrlFF"
   },
   "source": [
    "- **Adding** the polarity and subjectivity values to `polarity` and `subjectivity` columns in the dataset."
   ]
  },
  {
   "cell_type": "code",
   "execution_count": null,
   "metadata": {
    "id": "LOF8lZ1keqS1"
   },
   "outputs": [],
   "source": [
    "reviews_df['polarity'] = polarity\n",
    "reviews_df['subjectivity'] = subjectivity"
   ]
  },
  {
   "cell_type": "code",
   "execution_count": null,
   "metadata": {
    "colab": {
     "base_uri": "https://localhost:8080/",
     "height": 1000
    },
    "executionInfo": {
     "elapsed": 2650875,
     "status": "ok",
     "timestamp": 1589447438668,
     "user": {
      "displayName": "Suchit Majumdar",
      "photoUrl": "",
      "userId": "17036306179367680212"
     },
     "user_tz": -330
    },
    "id": "_BTJVaOf4_Ao",
    "outputId": "df75ed8d-d92e-4cc1-efc1-bbbf17bbd1e6"
   },
   "outputs": [
    {
     "data": {
      "text/html": [
       "<div>\n",
       "<style scoped>\n",
       "    .dataframe tbody tr th:only-of-type {\n",
       "        vertical-align: middle;\n",
       "    }\n",
       "\n",
       "    .dataframe tbody tr th {\n",
       "        vertical-align: top;\n",
       "    }\n",
       "\n",
       "    .dataframe thead th {\n",
       "        text-align: right;\n",
       "    }\n",
       "</style>\n",
       "<table border=\"1\" class=\"dataframe\">\n",
       "  <thead>\n",
       "    <tr style=\"text-align: right;\">\n",
       "      <th></th>\n",
       "      <th>marketplace</th>\n",
       "      <th>customer_id</th>\n",
       "      <th>review_id</th>\n",
       "      <th>product_id</th>\n",
       "      <th>product_parent</th>\n",
       "      <th>product_title</th>\n",
       "      <th>product_category</th>\n",
       "      <th>star_rating</th>\n",
       "      <th>helpful_votes</th>\n",
       "      <th>total_votes</th>\n",
       "      <th>vine</th>\n",
       "      <th>verified_purchase</th>\n",
       "      <th>review_headline</th>\n",
       "      <th>review_body</th>\n",
       "      <th>review_date</th>\n",
       "      <th>clean_reviews</th>\n",
       "      <th>polarity</th>\n",
       "      <th>subjectivity</th>\n",
       "    </tr>\n",
       "  </thead>\n",
       "  <tbody>\n",
       "    <tr>\n",
       "      <th>0</th>\n",
       "      <td>US</td>\n",
       "      <td>41409413</td>\n",
       "      <td>R2MTG1GCZLR2DK</td>\n",
       "      <td>B00428R89M</td>\n",
       "      <td>112201306</td>\n",
       "      <td>yoomall 5M Antenna WIFI RP-SMA Female to Male Extensionl Cable</td>\n",
       "      <td>Electronics</td>\n",
       "      <td>5</td>\n",
       "      <td>0</td>\n",
       "      <td>0</td>\n",
       "      <td>N</td>\n",
       "      <td>Y</td>\n",
       "      <td>Five Stars</td>\n",
       "      <td>As described.</td>\n",
       "      <td>2015-08-31</td>\n",
       "      <td>as described</td>\n",
       "      <td>0.0000</td>\n",
       "      <td>0.0000</td>\n",
       "    </tr>\n",
       "    <tr>\n",
       "      <th>1</th>\n",
       "      <td>US</td>\n",
       "      <td>49668221</td>\n",
       "      <td>R2HBOEM8LE9928</td>\n",
       "      <td>B000068O48</td>\n",
       "      <td>734576678</td>\n",
       "      <td>Hosa GPM-103 3.5mm TRS to 1/4\" TRS Adaptor</td>\n",
       "      <td>Electronics</td>\n",
       "      <td>5</td>\n",
       "      <td>0</td>\n",
       "      <td>0</td>\n",
       "      <td>N</td>\n",
       "      <td>Y</td>\n",
       "      <td>It works as advertising.</td>\n",
       "      <td>It works as advertising.</td>\n",
       "      <td>2015-08-31</td>\n",
       "      <td>it works as advertising</td>\n",
       "      <td>0.0000</td>\n",
       "      <td>0.0000</td>\n",
       "    </tr>\n",
       "    <tr>\n",
       "      <th>2</th>\n",
       "      <td>US</td>\n",
       "      <td>12338275</td>\n",
       "      <td>R1P4RW1R9FDPEE</td>\n",
       "      <td>B000GGKOG8</td>\n",
       "      <td>614448099</td>\n",
       "      <td>Channel Master Titan 2 Antenna Preamplifier</td>\n",
       "      <td>Electronics</td>\n",
       "      <td>5</td>\n",
       "      <td>1</td>\n",
       "      <td>1</td>\n",
       "      <td>N</td>\n",
       "      <td>Y</td>\n",
       "      <td>Five Stars</td>\n",
       "      <td>Works pissa</td>\n",
       "      <td>2015-08-31</td>\n",
       "      <td>works pissa</td>\n",
       "      <td>0.0000</td>\n",
       "      <td>0.0000</td>\n",
       "    </tr>\n",
       "    <tr>\n",
       "      <th>3</th>\n",
       "      <td>US</td>\n",
       "      <td>38487968</td>\n",
       "      <td>R1EBPM82ENI67M</td>\n",
       "      <td>B000NU4OTA</td>\n",
       "      <td>72265257</td>\n",
       "      <td>LIMTECH Wall charger + USB Hotsync &amp; Charging Dock Cradle desktop Charger for Apple IPOD Shuffle 2nd Generation MP3 Player</td>\n",
       "      <td>Electronics</td>\n",
       "      <td>1</td>\n",
       "      <td>0</td>\n",
       "      <td>0</td>\n",
       "      <td>N</td>\n",
       "      <td>Y</td>\n",
       "      <td>One Star</td>\n",
       "      <td>Did not work at all.</td>\n",
       "      <td>2015-08-31</td>\n",
       "      <td>did not work at all</td>\n",
       "      <td>0.0000</td>\n",
       "      <td>0.0000</td>\n",
       "    </tr>\n",
       "    <tr>\n",
       "      <th>4</th>\n",
       "      <td>US</td>\n",
       "      <td>23732619</td>\n",
       "      <td>R372S58V6D11AT</td>\n",
       "      <td>B00JOQIO6S</td>\n",
       "      <td>308169188</td>\n",
       "      <td>Skullcandy Air Raid Portable Bluetooth Speaker</td>\n",
       "      <td>Electronics</td>\n",
       "      <td>5</td>\n",
       "      <td>1</td>\n",
       "      <td>1</td>\n",
       "      <td>N</td>\n",
       "      <td>Y</td>\n",
       "      <td>Overall pleased with the item</td>\n",
       "      <td>Works well. Bass is somewhat lacking but is present. Overall pleased with the item.</td>\n",
       "      <td>2015-08-31</td>\n",
       "      <td>works well bass is somewhat lacking but is present overall pleased with the item</td>\n",
       "      <td>0.0875</td>\n",
       "      <td>0.3750</td>\n",
       "    </tr>\n",
       "    <tr>\n",
       "      <th>5</th>\n",
       "      <td>US</td>\n",
       "      <td>21257820</td>\n",
       "      <td>R1A4514XOYI1PD</td>\n",
       "      <td>B008NCD2LG</td>\n",
       "      <td>976385982</td>\n",
       "      <td>Pioneer SP-BS22-LR Andrew Jones Designed Bookshelf Loudspeakers</td>\n",
       "      <td>Electronics</td>\n",
       "      <td>5</td>\n",
       "      <td>1</td>\n",
       "      <td>1</td>\n",
       "      <td>N</td>\n",
       "      <td>Y</td>\n",
       "      <td>Five Stars</td>\n",
       "      <td>The quality on these speakers is insanely good and doesn't sound muddy when adjusting bass. Very happy with these.</td>\n",
       "      <td>2015-08-31</td>\n",
       "      <td>the quality on these speakers is insanely good and does not sound muddy when adjusting bass very happy with these</td>\n",
       "      <td>0.3375</td>\n",
       "      <td>0.6250</td>\n",
       "    </tr>\n",
       "    <tr>\n",
       "      <th>6</th>\n",
       "      <td>US</td>\n",
       "      <td>3084991</td>\n",
       "      <td>R20D9EHB7N20V6</td>\n",
       "      <td>B00007FGUF</td>\n",
       "      <td>670878953</td>\n",
       "      <td>C2G/Cables to Go 03170 3.5mm F/F Stereo Coupler</td>\n",
       "      <td>Electronics</td>\n",
       "      <td>5</td>\n",
       "      <td>0</td>\n",
       "      <td>0</td>\n",
       "      <td>N</td>\n",
       "      <td>Y</td>\n",
       "      <td>Lifesaver</td>\n",
       "      <td>Wish I could give this product more than five stars. Lifesaver.</td>\n",
       "      <td>2015-08-31</td>\n",
       "      <td>wish i could give this product more than five stars lifesaver</td>\n",
       "      <td>0.5000</td>\n",
       "      <td>0.5000</td>\n",
       "    </tr>\n",
       "    <tr>\n",
       "      <th>7</th>\n",
       "      <td>US</td>\n",
       "      <td>8153674</td>\n",
       "      <td>R1WUTD8MVSROJU</td>\n",
       "      <td>B00M9V2RMM</td>\n",
       "      <td>508452933</td>\n",
       "      <td>COOLEAD-HDMI Switcher BOX</td>\n",
       "      <td>Electronics</td>\n",
       "      <td>5</td>\n",
       "      <td>0</td>\n",
       "      <td>0</td>\n",
       "      <td>N</td>\n",
       "      <td>Y</td>\n",
       "      <td>Five Stars</td>\n",
       "      <td>works great</td>\n",
       "      <td>2015-08-31</td>\n",
       "      <td>works great</td>\n",
       "      <td>0.8000</td>\n",
       "      <td>0.7500</td>\n",
       "    </tr>\n",
       "    <tr>\n",
       "      <th>8</th>\n",
       "      <td>US</td>\n",
       "      <td>52246189</td>\n",
       "      <td>R1QCYLT25812DM</td>\n",
       "      <td>B00J3O9DYI</td>\n",
       "      <td>766372886</td>\n",
       "      <td>Philips Wireless Portable Speaker</td>\n",
       "      <td>Electronics</td>\n",
       "      <td>4</td>\n",
       "      <td>0</td>\n",
       "      <td>0</td>\n",
       "      <td>N</td>\n",
       "      <td>Y</td>\n",
       "      <td>Four Stars</td>\n",
       "      <td>Great sound and compact. Battery life seems good. Happy with this product.</td>\n",
       "      <td>2015-08-31</td>\n",
       "      <td>great sound and compact battery life seems good happy with this product</td>\n",
       "      <td>0.6750</td>\n",
       "      <td>0.6875</td>\n",
       "    </tr>\n",
       "    <tr>\n",
       "      <th>9</th>\n",
       "      <td>US</td>\n",
       "      <td>41463864</td>\n",
       "      <td>R904DQPBCEM7A</td>\n",
       "      <td>B00NS1A0E4</td>\n",
       "      <td>458130381</td>\n",
       "      <td>PlayStation 3 3D Glasses (Super Value 4 Pack)</td>\n",
       "      <td>Electronics</td>\n",
       "      <td>4</td>\n",
       "      <td>0</td>\n",
       "      <td>0</td>\n",
       "      <td>N</td>\n",
       "      <td>Y</td>\n",
       "      <td>Four Stars</td>\n",
       "      <td>It works well~~~</td>\n",
       "      <td>2015-08-31</td>\n",
       "      <td>it works well</td>\n",
       "      <td>0.0000</td>\n",
       "      <td>0.0000</td>\n",
       "    </tr>\n",
       "  </tbody>\n",
       "</table>\n",
       "</div>"
      ],
      "text/plain": [
       "  marketplace  customer_id       review_id  product_id  product_parent  \\\n",
       "0          US     41409413  R2MTG1GCZLR2DK  B00428R89M       112201306   \n",
       "1          US     49668221  R2HBOEM8LE9928  B000068O48       734576678   \n",
       "2          US     12338275  R1P4RW1R9FDPEE  B000GGKOG8       614448099   \n",
       "3          US     38487968  R1EBPM82ENI67M  B000NU4OTA        72265257   \n",
       "4          US     23732619  R372S58V6D11AT  B00JOQIO6S       308169188   \n",
       "5          US     21257820  R1A4514XOYI1PD  B008NCD2LG       976385982   \n",
       "6          US      3084991  R20D9EHB7N20V6  B00007FGUF       670878953   \n",
       "7          US      8153674  R1WUTD8MVSROJU  B00M9V2RMM       508452933   \n",
       "8          US     52246189  R1QCYLT25812DM  B00J3O9DYI       766372886   \n",
       "9          US     41463864   R904DQPBCEM7A  B00NS1A0E4       458130381   \n",
       "\n",
       "                                                                                                                product_title  \\\n",
       "0                                                              yoomall 5M Antenna WIFI RP-SMA Female to Male Extensionl Cable   \n",
       "1                                                                                  Hosa GPM-103 3.5mm TRS to 1/4\" TRS Adaptor   \n",
       "2                                                                                 Channel Master Titan 2 Antenna Preamplifier   \n",
       "3  LIMTECH Wall charger + USB Hotsync & Charging Dock Cradle desktop Charger for Apple IPOD Shuffle 2nd Generation MP3 Player   \n",
       "4                                                                              Skullcandy Air Raid Portable Bluetooth Speaker   \n",
       "5                                                             Pioneer SP-BS22-LR Andrew Jones Designed Bookshelf Loudspeakers   \n",
       "6                                                                             C2G/Cables to Go 03170 3.5mm F/F Stereo Coupler   \n",
       "7                                                                                                   COOLEAD-HDMI Switcher BOX   \n",
       "8                                                                                           Philips Wireless Portable Speaker   \n",
       "9                                                                               PlayStation 3 3D Glasses (Super Value 4 Pack)   \n",
       "\n",
       "  product_category  star_rating  helpful_votes  total_votes vine  \\\n",
       "0      Electronics            5              0            0    N   \n",
       "1      Electronics            5              0            0    N   \n",
       "2      Electronics            5              1            1    N   \n",
       "3      Electronics            1              0            0    N   \n",
       "4      Electronics            5              1            1    N   \n",
       "5      Electronics            5              1            1    N   \n",
       "6      Electronics            5              0            0    N   \n",
       "7      Electronics            5              0            0    N   \n",
       "8      Electronics            4              0            0    N   \n",
       "9      Electronics            4              0            0    N   \n",
       "\n",
       "  verified_purchase                review_headline  \\\n",
       "0                 Y                     Five Stars   \n",
       "1                 Y       It works as advertising.   \n",
       "2                 Y                     Five Stars   \n",
       "3                 Y                       One Star   \n",
       "4                 Y  Overall pleased with the item   \n",
       "5                 Y                     Five Stars   \n",
       "6                 Y                      Lifesaver   \n",
       "7                 Y                     Five Stars   \n",
       "8                 Y                     Four Stars   \n",
       "9                 Y                     Four Stars   \n",
       "\n",
       "                                                                                                          review_body  \\\n",
       "0                                                                                                       As described.   \n",
       "1                                                                                            It works as advertising.   \n",
       "2                                                                                                         Works pissa   \n",
       "3                                                                                                Did not work at all.   \n",
       "4                                 Works well. Bass is somewhat lacking but is present. Overall pleased with the item.   \n",
       "5  The quality on these speakers is insanely good and doesn't sound muddy when adjusting bass. Very happy with these.   \n",
       "6                                                     Wish I could give this product more than five stars. Lifesaver.   \n",
       "7                                                                                                         works great   \n",
       "8                                          Great sound and compact. Battery life seems good. Happy with this product.   \n",
       "9                                                                                                    It works well~~~   \n",
       "\n",
       "  review_date  \\\n",
       "0  2015-08-31   \n",
       "1  2015-08-31   \n",
       "2  2015-08-31   \n",
       "3  2015-08-31   \n",
       "4  2015-08-31   \n",
       "5  2015-08-31   \n",
       "6  2015-08-31   \n",
       "7  2015-08-31   \n",
       "8  2015-08-31   \n",
       "9  2015-08-31   \n",
       "\n",
       "                                                                                                       clean_reviews  \\\n",
       "0                                                                                                       as described   \n",
       "1                                                                                            it works as advertising   \n",
       "2                                                                                                        works pissa   \n",
       "3                                                                                                did not work at all   \n",
       "4                                   works well bass is somewhat lacking but is present overall pleased with the item   \n",
       "5  the quality on these speakers is insanely good and does not sound muddy when adjusting bass very happy with these   \n",
       "6                                                      wish i could give this product more than five stars lifesaver   \n",
       "7                                                                                                        works great   \n",
       "8                                            great sound and compact battery life seems good happy with this product   \n",
       "9                                                                                                      it works well   \n",
       "\n",
       "   polarity  subjectivity  \n",
       "0    0.0000        0.0000  \n",
       "1    0.0000        0.0000  \n",
       "2    0.0000        0.0000  \n",
       "3    0.0000        0.0000  \n",
       "4    0.0875        0.3750  \n",
       "5    0.3375        0.6250  \n",
       "6    0.5000        0.5000  \n",
       "7    0.8000        0.7500  \n",
       "8    0.6750        0.6875  \n",
       "9    0.0000        0.0000  "
      ]
     },
     "execution_count": 22,
     "metadata": {
      "tags": []
     },
     "output_type": "execute_result"
    }
   ],
   "source": [
    "reviews_df.head(3)"
   ]
  },
  {
   "cell_type": "markdown",
   "metadata": {
    "id": "XQk_vEX-j2F_"
   },
   "source": [
    "- We can see that the **polarity** and **subjectivity** values for each cleaned review in the `polarity` and `subjectivity` columns respectively."
   ]
  },
  {
   "cell_type": "markdown",
   "metadata": {
    "id": "laW3b0K5dGcE"
   },
   "source": [
    "<a id = Section6></a>\n",
    "## **6. Exploratory Data Analysis**"
   ]
  },
  {
   "cell_type": "markdown",
   "metadata": {
    "id": "oaaLPQhkeHWe"
   },
   "source": [
    "### **Question 1: How are the Star Ratings distributed for the Reviews?** "
   ]
  },
  {
   "cell_type": "code",
   "execution_count": null,
   "metadata": {
    "colab": {
     "base_uri": "https://localhost:8080/",
     "height": 121
    },
    "executionInfo": {
     "elapsed": 2650870,
     "status": "ok",
     "timestamp": 1589447438670,
     "user": {
      "displayName": "Suchit Majumdar",
      "photoUrl": "",
      "userId": "17036306179367680212"
     },
     "user_tz": -330
    },
    "id": "YVG_3use-CdX",
    "outputId": "c3f10395-fdb0-4692-c7de-22337df0a310"
   },
   "outputs": [
    {
     "data": {
      "text/plain": [
       "5    1781161\n",
       "4     536821\n",
       "1     358120\n",
       "3     238587\n",
       "2     179180\n",
       "Name: star_rating, dtype: int64"
      ]
     },
     "execution_count": 25,
     "metadata": {
      "tags": []
     },
     "output_type": "execute_result"
    }
   ],
   "source": [
    "reviews_df['star_rating'].value_counts()"
   ]
  },
  {
   "cell_type": "code",
   "execution_count": null,
   "metadata": {
    "colab": {
     "base_uri": "https://localhost:8080/",
     "height": 483
    },
    "executionInfo": {
     "elapsed": 2651849,
     "status": "ok",
     "timestamp": 1589447439652,
     "user": {
      "displayName": "Suchit Majumdar",
      "photoUrl": "",
      "userId": "17036306179367680212"
     },
     "user_tz": -330
    },
    "id": "wZPN_Z4_-9mi",
    "outputId": "1c210514-4c06-4526-920e-6fabe39be342"
   },
   "outputs": [
    {
     "data": {
      "text/plain": [
       "Text(0.5, 1.0, 'Proportional Distribution of Star Ratings')"
      ]
     },
     "execution_count": 26,
     "metadata": {
      "tags": []
     },
     "output_type": "execute_result"
    },
    {
     "data": {
      "image/png": "[encoded data removed]",
      "text/plain": [
       "<Figure size 1152x504 with 2 Axes>"
      ]
     },
     "metadata": {
      "needs_background": "light",
      "tags": []
     },
     "output_type": "display_data"
    }
   ],
   "source": [
    "# Plotting the Count and Proportional Distribution of reviews based on star rating\n",
    "plt.figure(figsize=(16, 7))\n",
    "plt.subplot(1, 2, 1)\n",
    "\n",
    "# Plotting the count of reviews for each star rating\n",
    "reviews_df['star_rating'].value_counts().sort_index().plot(kind='bar', color='Red', fontsize=13)\n",
    "plt.xlabel('Star Rating', fontsize=16)\n",
    "plt.ylabel('Number of Reviews', fontsize=16)\n",
    "plt.title('Count of Reviews for Each Star Rating', fontsize=18)\n",
    "\n",
    "plt.subplot(1, 2, 2)\n",
    "\n",
    "# Plotting the proportional distribution of star ratings\n",
    "reviews_df['star_rating'].value_counts().plot(kind='pie', autopct='%1.1f%%', explode=(0.01, 0.02, 0.02, 0.01, 0.02), \n",
    "                                              fontsize=12, wedgeprops=dict(width=0.15), \n",
    "                                              shadow=True, startangle=0, cmap='inferno', legend=True)\n",
    "plt.ylabel('Star Rating', fontsize=16)\n",
    "plt.title('Proportional Distribution of Star Ratings', fontsize=18)"
   ]
  },
  {
   "cell_type": "markdown",
   "metadata": {
    "id": "eC3YFKgGskhK"
   },
   "source": [
    "**Observations:**\n",
    "\n",
    "- We can observe that most of the reviews have a **5 star rating** with a **57.6%** share of all the reviews.\n",
    "\n",
    "- It is followed by 4 stars, then 1 star, 3 stars, and then 2 stars.\n",
    "\n",
    "- **2 star rating** has the **least share** of the reviews with just **5.8%** reviews having this rating.\n",
    "\n",
    "- This tells us that most of the people **usually** *leave a 5 star review* for the product they have bought and **less frequently** will *leave a low star review*."
   ]
  },
  {
   "cell_type": "markdown",
   "metadata": {
    "id": "qX3pXluLQVnM"
   },
   "source": [
    "### **Question 2: How are the Reviews distributed into Sentiments based on Polarity?** "
   ]
  },
  {
   "cell_type": "markdown",
   "metadata": {
    "id": "VWvKsz3TXInZ"
   },
   "source": [
    "- Reviews having:\n",
    "  - a **negative polarity** will have a **negative sentiment**,\n",
    "  \n",
    "  - **zero** polarity will have a **neutral sentiment**, and\n",
    "  \n",
    "  - **positive** polarity will have a **positive sentiment**."
   ]
  },
  {
   "cell_type": "code",
   "execution_count": null,
   "metadata": {
    "colab": {
     "base_uri": "https://localhost:8080/",
     "height": 69
    },
    "executionInfo": {
     "elapsed": 2654428,
     "status": "ok",
     "timestamp": 1589447442235,
     "user": {
      "displayName": "Suchit Majumdar",
      "photoUrl": "",
      "userId": "17036306179367680212"
     },
     "user_tz": -330
    },
    "id": "Z91bHo0jQWjb",
    "outputId": "f9298dcc-7962-4301-cb00-6b7d892cbd86"
   },
   "outputs": [
    {
     "name": "stdout",
     "output_type": "stream",
     "text": [
      "Reviews with Negative Sentiment based on Polarity: 311344\n",
      "Reviews with Neutral Sentiment based on Polarity: 190167\n",
      "Reviews with Positive Sentiment based on Polarity: 2592358\n"
     ]
    }
   ],
   "source": [
    "print('Reviews with Negative Sentiment based on Polarity:', len(reviews_df[reviews_df['polarity'] < 0]))\n",
    "print('Reviews with Neutral Sentiment based on Polarity:', len(reviews_df[reviews_df['polarity'] == 0]))\n",
    "print('Reviews with Positive Sentiment based on Polarity:', len(reviews_df[reviews_df['polarity'] > 0]))"
   ]
  },
  {
   "cell_type": "code",
   "execution_count": null,
   "metadata": {
    "colab": {
     "base_uri": "https://localhost:8080/",
     "height": 485
    },
    "executionInfo": {
     "elapsed": 2656741,
     "status": "ok",
     "timestamp": 1589447444551,
     "user": {
      "displayName": "Suchit Majumdar",
      "photoUrl": "",
      "userId": "17036306179367680212"
     },
     "user_tz": -330
    },
    "id": "Pfqw5VPiQWl7",
    "outputId": "a1d4562d-a2d2-4f08-bd3d-8625c87eabfc"
   },
   "outputs": [
    {
     "data": {
      "text/plain": [
       "<matplotlib.legend.Legend at 0x7fb14835ac18>"
      ]
     },
     "execution_count": 29,
     "metadata": {
      "tags": []
     },
     "output_type": "execute_result"
    },
    {
     "data": {
      "image/png": "[encoded data removed]",
      "text/plain": [
       "<Figure size 1224x504 with 2 Axes>"
      ]
     },
     "metadata": {
      "needs_background": "light",
      "tags": []
     },
     "output_type": "display_data"
    }
   ],
   "source": [
    "# Plotting the Count and Proportional Distribution of reviews based on sentiment as per polarity\n",
    "plt.figure(figsize=(17, 7))\n",
    "plt.subplot(1, 2, 1)\n",
    "\n",
    "# Plotting the count of reviews for each sentiment\n",
    "plt.bar(['Negative', 'Neutral', 'Positive'], [len(reviews_df[reviews_df['polarity'] < 0]), len(reviews_df[reviews_df['polarity'] == 0]), \n",
    "                                              len(reviews_df[reviews_df['polarity'] > 0])], color='brown')\n",
    "plt.xlabel('Sentiment', fontsize=16)\n",
    "plt.ylabel('Number of Reviews', fontsize=16)\n",
    "plt.title('Distribution of Sentiments based on Polarity', fontsize=18)\n",
    "\n",
    "plt.subplot(1, 2, 2)\n",
    "\n",
    "# Plotting the proportional distribution of sentiments\n",
    "plt.pie(x=[len(reviews_df[reviews_df['polarity'] < 0]), len(reviews_df[reviews_df['polarity'] == 0]),\n",
    "           len(reviews_df[reviews_df['polarity'] > 0])], \n",
    "        labels=['Negative', 'Neutral', 'Positive'], autopct='%1.1f%%', pctdistance=0.5,\n",
    "        textprops={'fontsize':15, 'color':'white'})\n",
    "plt.ylabel('Sentiments', fontsize=16)\n",
    "plt.title('Proportional Distribution of Sentiments', fontsize=18)\n",
    "plt.legend()"
   ]
  },
  {
   "cell_type": "markdown",
   "metadata": {
    "id": "SZbWxtFkQXXQ"
   },
   "source": [
    "**Observations:**\n",
    "\n",
    "- Based on the polarity values, **83.8% reviews** have a **positive sentiment**.\n",
    "\n",
    "- Only **10.1%** reviews have a **negative** sentiment and **6.1%** reviews have a **neutral** sentiment."
   ]
  },
  {
   "cell_type": "markdown",
   "metadata": {
    "id": "MhPRRl0aQZQa"
   },
   "source": [
    "### **Question 3: What is the Relationship between the Star Ratings and the Polarity of the Reviews?** "
   ]
  },
  {
   "cell_type": "code",
   "execution_count": null,
   "metadata": {
    "colab": {
     "base_uri": "https://localhost:8080/",
     "height": 481
    },
    "executionInfo": {
     "elapsed": 2657407,
     "status": "ok",
     "timestamp": 1589447445220,
     "user": {
      "displayName": "Suchit Majumdar",
      "photoUrl": "",
      "userId": "17036306179367680212"
     },
     "user_tz": -330
    },
    "id": "rrLYGvP8QZrX",
    "outputId": "e476f321-03ed-460e-c479-583f7f91eb0d"
   },
   "outputs": [
    {
     "data": {
      "text/plain": [
       "Text(0.5, 1.0, 'Relationship Between the Star Rating and Polarity of Reviews')"
      ]
     },
     "execution_count": 30,
     "metadata": {
      "tags": []
     },
     "output_type": "execute_result"
    },
    {
     "data": {
      "image/png": "[encoded data removed]",
      "text/plain": [
       "<Figure size 576x504 with 1 Axes>"
      ]
     },
     "metadata": {
      "needs_background": "light",
      "tags": []
     },
     "output_type": "display_data"
    }
   ],
   "source": [
    "plt.figure(figsize=(8, 7))\n",
    "sns.boxplot(data=reviews_df, x='star_rating', y='polarity', palette='winter', width=0.8, showfliers=False)\n",
    "plt.xlabel('Star Rating', fontsize=14)\n",
    "plt.ylabel('Polarity', fontsize=14)\n",
    "plt.title('Relationship Between the Star Rating and Polarity of Reviews', fontsize=16)"
   ]
  },
  {
   "cell_type": "markdown",
   "metadata": {
    "id": "oAARxSv8QZrZ"
   },
   "source": [
    "**Observations:**\n",
    "\n",
    "- From the boxplot, we can infer that as the **star rating increases** the **highest polarity** value is also **increasing**.\n",
    "\n",
    "- This **doesn't prove** that there is any *positive correlation* between the two features.\n",
    "\n",
    "- Also, *even at 4 and 5 star ratings* the box plot is showing reviews with **negative polarity** or negative **sentiment**.\n",
    "\n",
    "  - And there is **positive polarity** at *1 and 2 star ratings*.\n",
    "\n",
    "- We need to **investigate** this in-depth."
   ]
  },
  {
   "cell_type": "markdown",
   "metadata": {
    "id": "j9pxr_hLQY6J"
   },
   "source": [
    "### **Question 4: Is there a Positive Correlation between the Star Ratings and the Polarity of Reviews?** "
   ]
  },
  {
   "cell_type": "code",
   "execution_count": null,
   "metadata": {
    "colab": {
     "base_uri": "https://localhost:8080/",
     "height": 110
    },
    "executionInfo": {
     "elapsed": 2657405,
     "status": "ok",
     "timestamp": 1589447445221,
     "user": {
      "displayName": "Suchit Majumdar",
      "photoUrl": "",
      "userId": "17036306179367680212"
     },
     "user_tz": -330
    },
    "id": "eNHq8JuwVOVS",
    "outputId": "b44c219d-3f0a-4ce8-fb3c-84ec15050538"
   },
   "outputs": [
    {
     "data": {
      "text/html": [
       "<div>\n",
       "<style scoped>\n",
       "    .dataframe tbody tr th:only-of-type {\n",
       "        vertical-align: middle;\n",
       "    }\n",
       "\n",
       "    .dataframe tbody tr th {\n",
       "        vertical-align: top;\n",
       "    }\n",
       "\n",
       "    .dataframe thead th {\n",
       "        text-align: right;\n",
       "    }\n",
       "</style>\n",
       "<table border=\"1\" class=\"dataframe\">\n",
       "  <thead>\n",
       "    <tr style=\"text-align: right;\">\n",
       "      <th></th>\n",
       "      <th>star_rating</th>\n",
       "      <th>polarity</th>\n",
       "    </tr>\n",
       "  </thead>\n",
       "  <tbody>\n",
       "    <tr>\n",
       "      <th>star_rating</th>\n",
       "      <td>1.0000</td>\n",
       "      <td>0.4467</td>\n",
       "    </tr>\n",
       "    <tr>\n",
       "      <th>polarity</th>\n",
       "      <td>0.4467</td>\n",
       "      <td>1.0000</td>\n",
       "    </tr>\n",
       "  </tbody>\n",
       "</table>\n",
       "</div>"
      ],
      "text/plain": [
       "             star_rating  polarity\n",
       "star_rating       1.0000    0.4467\n",
       "polarity          0.4467    1.0000"
      ]
     },
     "execution_count": 31,
     "metadata": {
      "tags": []
     },
     "output_type": "execute_result"
    }
   ],
   "source": [
    "reviews_df[['star_rating', 'polarity']].corr()"
   ]
  },
  {
   "cell_type": "code",
   "execution_count": null,
   "metadata": {
    "colab": {
     "base_uri": "https://localhost:8080/",
     "height": 287
    },
    "executionInfo": {
     "elapsed": 2657404,
     "status": "ok",
     "timestamp": 1589447445222,
     "user": {
      "displayName": "Suchit Majumdar",
      "photoUrl": "",
      "userId": "17036306179367680212"
     },
     "user_tz": -330
    },
    "id": "PxKv5pO8QZQX",
    "outputId": "a3868554-cfeb-4150-bf86-92fd2deb74ba"
   },
   "outputs": [
    {
     "data": {
      "text/plain": [
       "<matplotlib.axes._subplots.AxesSubplot at 0x7fb1481d4e48>"
      ]
     },
     "execution_count": 32,
     "metadata": {
      "tags": []
     },
     "output_type": "execute_result"
    },
    {
     "data": {
      "image/png": "[encoded data removed]",
      "text/plain": [
       "<Figure size 432x288 with 2 Axes>"
      ]
     },
     "metadata": {
      "needs_background": "light",
      "tags": []
     },
     "output_type": "display_data"
    }
   ],
   "source": [
    "plt.figure(figsize=(6, 4))\n",
    "sns.heatmap(reviews_df[['star_rating', 'polarity']].corr(), annot=True, cmap='viridis')"
   ]
  },
  {
   "cell_type": "markdown",
   "metadata": {
    "id": "K7-kHh3gQZQZ"
   },
   "source": [
    "**Observations:**\n",
    "\n",
    "- `star_rating` and `polarity` have a **positive correlation** of **0.45**\n",
    "\n",
    "- This **isn't a strong positive correlation**, but is a positive correlation nonetheless."
   ]
  },
  {
   "cell_type": "markdown",
   "metadata": {
    "id": "xyddLzd3QX-Z"
   },
   "source": [
    "### **Question 6: Why the Boxplot was showing Negative Polarity for High Star Rated Reviews?** "
   ]
  },
  {
   "cell_type": "markdown",
   "metadata": {
    "id": "_RutQoMPffWj"
   },
   "source": [
    "- Let's see some examples where both these cases are overlapping i. e. **high star rating** but **low polarity**."
   ]
  },
  {
   "cell_type": "code",
   "execution_count": null,
   "metadata": {
    "colab": {
     "base_uri": "https://localhost:8080/",
     "height": 191
    },
    "executionInfo": {
     "elapsed": 2657977,
     "status": "ok",
     "timestamp": 1589447445802,
     "user": {
      "displayName": "Suchit Majumdar",
      "photoUrl": "",
      "userId": "17036306179367680212"
     },
     "user_tz": -330
    },
    "id": "ywFGNPZtjGGt",
    "outputId": "5978617b-14db-4ae2-dad8-77d3d4fee965"
   },
   "outputs": [
    {
     "name": "stdout",
     "output_type": "stream",
     "text": [
      "this thing frees you from the oppression of horribly cramped power strips \n",
      "\n",
      "these are sturdy and got me through the worst winter of nyc that i can remember \n",
      "\n",
      "this is terrible doesnt get any channels \n",
      "\n",
      "they work well and you do not get any nasty signal interference with them \n",
      "\n",
      "worked well even though the cable was bent against the wall mounted tv terrible placement of the plug on the tv but the cable still worked well \n",
      "\n"
     ]
    }
   ],
   "source": [
    "for review in reviews_df[(reviews_df['star_rating'] == 5) & (reviews_df['polarity'] == -1)]['clean_reviews'][:5]:\n",
    "    print(review, '\\n')"
   ]
  },
  {
   "cell_type": "markdown",
   "metadata": {
    "id": "Lh_VPBDmQYiW"
   },
   "source": [
    "**Observations:**\n",
    "\n",
    "- These reviews contain some words like **horrible**, **worst**, **terrible**, **nasty** that are usually linked with a **negative emotion**.\n",
    "\n",
    "  - As a result, the **polarity** values are **negative**.\n",
    "\n",
    "  - But these words are used in order to **praise** the product.\n",
    "\n",
    "- The **star ratings** are **high** because the customers actually are **satisfied** with the product and showing a **positive sentiment** in this context."
   ]
  },
  {
   "cell_type": "markdown",
   "metadata": {
    "id": "TFry97ABaYvc"
   },
   "source": [
    "### **Question 7: Why the Boxplot was showing Positive Polarity for Low Star Rated Reviews?** "
   ]
  },
  {
   "cell_type": "markdown",
   "metadata": {
    "id": "BfIP2FyXjeUM"
   },
   "source": [
    "- Let's see some examples where both these cases are overlapping i. e. **low star rating** but **high polarity**."
   ]
  },
  {
   "cell_type": "code",
   "execution_count": null,
   "metadata": {
    "colab": {
     "base_uri": "https://localhost:8080/",
     "height": 191
    },
    "executionInfo": {
     "elapsed": 2658306,
     "status": "ok",
     "timestamp": 1589447446139,
     "user": {
      "displayName": "Suchit Majumdar",
      "photoUrl": "",
      "userId": "17036306179367680212"
     },
     "user_tz": -330
    },
    "id": "nzsHTqXKjeUX",
    "outputId": "33d0e22a-b5e8-440c-c14b-9efae8331551"
   },
   "outputs": [
    {
     "name": "stdout",
     "output_type": "stream",
     "text": [
      "not the best sounding amplifier \n",
      "\n",
      "it was not the correct unit for the speakers even though i put in the model number and it matched perfectly it did not work \n",
      "\n",
      "did not work seller is awesome on service \n",
      "\n",
      "not the company but the product worked flawlessly for two weeks brick since then \n",
      "\n",
      "not the greatest \n",
      "\n"
     ]
    }
   ],
   "source": [
    "for review in reviews_df[(reviews_df['star_rating'] == 1) & (reviews_df['polarity'] == 1)]['clean_reviews'][:5]:\n",
    "    print(review, '\\n')"
   ]
  },
  {
   "cell_type": "markdown",
   "metadata": {
    "id": "sXKpml_-aYvj"
   },
   "source": [
    "**Observations:**\n",
    "\n",
    "- All these reviews contains words like **best**, **perfectly**, **awesome**, **flawlessly**, **greatest**, that are used to express **positive emotions**.\n",
    "\n",
    "  - As a result, the **polarity** values are **positive**.\n",
    "\n",
    "  - But, there is also a **negation** in most of these reviews, due to which these words are actually expressing **dissatisfaction**.\n",
    "\n",
    "- The **star ratings** for these reviews are **low** because the customers actually are **complaining** about their products and showing **negative sentiment**."
   ]
  },
  {
   "cell_type": "markdown",
   "metadata": {
    "id": "tYM1RWmY0Anq"
   },
   "source": [
    "- This *star rating* and *polarity* **issue** needs to be **resolved** before building the sentiment analysis model.\n",
    "\n",
    "- We need to consider both these features while applying a sentiment to our reviews."
   ]
  },
  {
   "cell_type": "markdown",
   "metadata": {
    "id": "C3WUEcn6QXXR"
   },
   "source": [
    "### **Question 8: How are the Subjectivity values distributed for the Reviews?** "
   ]
  },
  {
   "cell_type": "code",
   "execution_count": null,
   "metadata": {
    "colab": {
     "base_uri": "https://localhost:8080/",
     "height": 487
    },
    "executionInfo": {
     "elapsed": 2659057,
     "status": "ok",
     "timestamp": 1589447446893,
     "user": {
      "displayName": "Suchit Majumdar",
      "photoUrl": "",
      "userId": "17036306179367680212"
     },
     "user_tz": -330
    },
    "id": "nJa_dFOZQX-V",
    "outputId": "2f6af407-79ab-4465-c793-0aa840478061"
   },
   "outputs": [
    {
     "data": {
      "text/plain": [
       "Text(0.5, 1.0, 'Distribution of Subjectivity Values')"
      ]
     },
     "execution_count": 39,
     "metadata": {
      "tags": []
     },
     "output_type": "execute_result"
    },
    {
     "data": {
      "image/png": "[encoded data removed]",
      "text/plain": [
       "<Figure size 576x504 with 1 Axes>"
      ]
     },
     "metadata": {
      "needs_background": "light",
      "tags": []
     },
     "output_type": "display_data"
    }
   ],
   "source": [
    "plt.figure(figsize=(8, 7))\n",
    "reviews_df['subjectivity'].plot(kind='hist', color='blue', fontsize=13)\n",
    "plt.xlabel('Subjectivity', fontsize=16)\n",
    "plt.ylabel('Frequency', fontsize=16)\n",
    "plt.title('Distribution of Subjectivity Values', fontsize=18)"
   ]
  },
  {
   "cell_type": "markdown",
   "metadata": {
    "id": "mqfzsnHzQX-Y"
   },
   "source": [
    "**Observations:**\n",
    "\n",
    "- **Subjectivity** values follow a **normal distribution**.\n",
    "\n",
    "- **More than 80%** values have a *subjectivity* **higher than 0.4**.\n",
    "\n",
    "- The reviews need to be subjective in order to **build** a **robust** sentiment analysis model.\n",
    "\n",
    "  - Because *objective reviews* will **downgrade** the **performance** of the model."
   ]
  },
  {
   "cell_type": "markdown",
   "metadata": {
    "id": "oRQbyu1fQYiX"
   },
   "source": [
    "### **Question 9: What should be the Threshold of Subjectivity for the Reviews?** "
   ]
  },
  {
   "cell_type": "markdown",
   "metadata": {
    "id": "IBRff6Jy03jA"
   },
   "source": [
    "- We need to **set** a **threshold** for subjectivity that will allow us to **remove reviews** from the dataset having subjectivity lower than the threshold value.\n",
    "\n",
    "- We will experiment with **3** different `subjectivity` values: **0.1**, **0.2**, and **0.3**\n",
    "\n",
    "- There are a total of **3093869** reviews in the dataset."
   ]
  },
  {
   "cell_type": "markdown",
   "metadata": {
    "id": "EHRJa-eh1X4X"
   },
   "source": [
    "**Reviews having Subjectivity value of 0.1**"
   ]
  },
  {
   "cell_type": "code",
   "execution_count": null,
   "metadata": {
    "colab": {
     "base_uri": "https://localhost:8080/",
     "height": 211
    },
    "executionInfo": {
     "elapsed": 2659055,
     "status": "ok",
     "timestamp": 1589447446893,
     "user": {
      "displayName": "Suchit Majumdar",
      "photoUrl": "",
      "userId": "17036306179367680212"
     },
     "user_tz": -330
    },
    "id": "070-71-_10cp",
    "outputId": "ab251c1a-7b46-4961-9849-19564870441a"
   },
   "outputs": [
    {
     "name": "stdout",
     "output_type": "stream",
     "text": [
      "maxell once again proved that everything it makes is inferior quality do not buy these my left earbud broke within 20 minutes of use maxell why does everything you make suck so much \n",
      "\n",
      "this meter did the job it was intended to do but we really should have purchased a digital satellite finder \n",
      "\n",
      "worth ever $ \n",
      "\n",
      "i plugged it in and all worked as advertised my samsung blue ray player now talks to my yamaha receiver \n",
      "\n",
      "appears to be a grade above hardware store product \n",
      "\n"
     ]
    }
   ],
   "source": [
    "for review in reviews_df[reviews_df['subjectivity'] == 0.1].sample(5, random_state=1)['clean_reviews']:\n",
    "    print(review, '\\n')"
   ]
  },
  {
   "cell_type": "markdown",
   "metadata": {
    "id": "-3XE8MT1A-SK"
   },
   "source": [
    "- The reviews are quite **objective** at this point."
   ]
  },
  {
   "cell_type": "code",
   "execution_count": null,
   "metadata": {
    "colab": {
     "base_uri": "https://localhost:8080/",
     "height": 35
    },
    "executionInfo": {
     "elapsed": 2659949,
     "status": "ok",
     "timestamp": 1589447447789,
     "user": {
      "displayName": "Suchit Majumdar",
      "photoUrl": "",
      "userId": "17036306179367680212"
     },
     "user_tz": -330
    },
    "id": "A18DhuQt4VQs",
    "outputId": "917f54ad-ea81-46ac-97dc-d1494325b49c"
   },
   "outputs": [
    {
     "name": "stdout",
     "output_type": "stream",
     "text": [
      "Proportion of Reviews left after Subjectivity Threshold set to 0.1: 94.71444977146739\n"
     ]
    }
   ],
   "source": [
    "print('Proportion of Reviews left after Subjectivity Threshold set to 0.1:', (len(reviews_df[reviews_df['subjectivity'] >= 0.1])/3093869)*100)"
   ]
  },
  {
   "cell_type": "markdown",
   "metadata": {
    "id": "jXh2a-Zu1UzK"
   },
   "source": [
    "**Reviews having Subjectivity value of 0.2**"
   ]
  },
  {
   "cell_type": "code",
   "execution_count": null,
   "metadata": {
    "colab": {
     "base_uri": "https://localhost:8080/",
     "height": 211
    },
    "executionInfo": {
     "elapsed": 2659947,
     "status": "ok",
     "timestamp": 1589447447790,
     "user": {
      "displayName": "Suchit Majumdar",
      "photoUrl": "",
      "userId": "17036306179367680212"
     },
     "user_tz": -330
    },
    "id": "lMWQ9_oM1XwI",
    "outputId": "98f486ce-5068-466f-fcd7-eeda00803a26"
   },
   "outputs": [
    {
     "name": "stdout",
     "output_type": "stream",
     "text": [
      "this hdmi cable worked well with hd digital as well as blu ray dvd is the fit into the receptacle is snug and the cable is flexible \n",
      "\n",
      "thanks for the comunication the saler respond to have a contact in all time i i i i i i \n",
      "\n",
      "this battery will not hold a charge it is useless \n",
      "\n",
      "this product works really well in my truck no bulky at all and it never gets tangled up on anything in my truck \n",
      "\n",
      "i bought it for the auto reverse feature and used it as a source in transferring my cassettes to mp3 about 20 tapes in it stopped working so i dug in and fixed the drive belt inside and lost the auto reverse capability that was olkay but then the tapes started speeding up during play and i could not control that so i tossed the unit a lesson learned i think i need a tape deck instead \n",
      "\n"
     ]
    }
   ],
   "source": [
    "for review in reviews_df[reviews_df['subjectivity'] == 0.2].sample(5, random_state=1)['clean_reviews']:\n",
    "    print(review, '\\n')"
   ]
  },
  {
   "cell_type": "markdown",
   "metadata": {
    "id": "6Cbp1Yc2BMAF"
   },
   "source": [
    "- The **ojectivity** of reviews has **decreased** and sentiment analysis might be easy for human eye.\n",
    "\n",
    "- But, it will still be **difficult** for a *machine* to **anlyze** the *sentiment* of these reviews at this point."
   ]
  },
  {
   "cell_type": "code",
   "execution_count": null,
   "metadata": {
    "colab": {
     "base_uri": "https://localhost:8080/",
     "height": 35
    },
    "executionInfo": {
     "elapsed": 2660533,
     "status": "ok",
     "timestamp": 1589447448379,
     "user": {
      "displayName": "Suchit Majumdar",
      "photoUrl": "",
      "userId": "17036306179367680212"
     },
     "user_tz": -330
    },
    "id": "8JqqxvB95Qfn",
    "outputId": "ee76e488-d496-47b4-d3b8-77def037175d"
   },
   "outputs": [
    {
     "name": "stdout",
     "output_type": "stream",
     "text": [
      "Proportion of Reviews left after Subjectivity Threshold set to 0.2: 93.61304567194021\n"
     ]
    }
   ],
   "source": [
    "print('Proportion of Reviews left after Subjectivity Threshold set to 0.2:', (len(reviews_df[reviews_df['subjectivity'] >= 0.2])/3093869)*100)"
   ]
  },
  {
   "cell_type": "markdown",
   "metadata": {
    "id": "6jc3Td0E1Fpk"
   },
   "source": [
    "**Reviews having Subjectivity value of 0.3**"
   ]
  },
  {
   "cell_type": "code",
   "execution_count": null,
   "metadata": {
    "colab": {
     "base_uri": "https://localhost:8080/",
     "height": 191
    },
    "executionInfo": {
     "elapsed": 2660530,
     "status": "ok",
     "timestamp": 1589447448379,
     "user": {
      "displayName": "Suchit Majumdar",
      "photoUrl": "",
      "userId": "17036306179367680212"
     },
     "user_tz": -330
    },
    "id": "PJ47I1ZiQY6G",
    "outputId": "e0137627-4452-44ec-eb3f-a04b05a5f23f"
   },
   "outputs": [
    {
     "name": "stdout",
     "output_type": "stream",
     "text": [
      "it does its job one cannot complain mike the owner was very curtious in answering my inquiries when contacting via phone \n",
      "\n",
      "works very well \n",
      "\n",
      "the best i have ever owned \n",
      "\n",
      "maxell are the best \n",
      "\n",
      "works well with a low price \n",
      "\n"
     ]
    }
   ],
   "source": [
    "for review in reviews_df[reviews_df['subjectivity'] == 0.3].sample(5, random_state=1)['clean_reviews']:\n",
    "    print(review, '\\n')"
   ]
  },
  {
   "cell_type": "markdown",
   "metadata": {
    "id": "oVMByucjBxZ0"
   },
   "source": [
    "- The reviews seem to be much **clearer** and **subjective** now."
   ]
  },
  {
   "cell_type": "code",
   "execution_count": null,
   "metadata": {
    "colab": {
     "base_uri": "https://localhost:8080/",
     "height": 35
    },
    "executionInfo": {
     "elapsed": 2661544,
     "status": "ok",
     "timestamp": 1589447449395,
     "user": {
      "displayName": "Suchit Majumdar",
      "photoUrl": "",
      "userId": "17036306179367680212"
     },
     "user_tz": -330
    },
    "id": "-m3blRwz5WS8",
    "outputId": "ef024ffa-6fb5-48ba-97ab-19927fe14d67"
   },
   "outputs": [
    {
     "name": "stdout",
     "output_type": "stream",
     "text": [
      "Proportion of Reviews left after Subjectivity Threshold set to 0.3: 90.45854882672796\n"
     ]
    }
   ],
   "source": [
    "print('Proportion of Reviews left after Subjectivity Threshold set to 0.3:', (len(reviews_df[reviews_df['subjectivity'] >= 0.3])/3093869)*100)"
   ]
  },
  {
   "cell_type": "markdown",
   "metadata": {
    "id": "X8UzoRGhQY6J"
   },
   "source": [
    "**Observations:**\n",
    "\n",
    "- Out of the 3 subjectivity values, we get the **best results** when *subjectivity threshold* is set to **0.3**\n",
    "\n",
    "- The reviews are **subjective** and it is **easy** to **analyze** their *sentiment* as well.\n",
    "\n",
    "- Also, we will still have about **90%** of the reviews from the dataset, when we set the subjectivity threshold to 0.3"
   ]
  },
  {
   "cell_type": "markdown",
   "metadata": {
    "id": "3r4uJHTjQZra"
   },
   "source": [
    "### **Question 10: What are the Most Common Words in Positive Reviews?** "
   ]
  },
  {
   "cell_type": "markdown",
   "metadata": {
    "id": "_ZBqzb6X_srT"
   },
   "source": [
    "- For **positive** reviews, we are setting `star_rating` to **5** and `polarity` to **1**."
   ]
  },
  {
   "cell_type": "code",
   "execution_count": null,
   "metadata": {
    "id": "gU44uF3D7zvD"
   },
   "outputs": [],
   "source": [
    "wordcloud = WordCloud(width=2500, height=2000, max_words=50,\n",
    "                      background_color='White'\n",
    "                      ).generate(str(reviews_df[(reviews_df['star_rating'] == 5) &\n",
    "                                 (reviews_df['polarity'] == 1)].sample(10000, random_state=0)['clean_reviews']))"
   ]
  },
  {
   "cell_type": "code",
   "execution_count": null,
   "metadata": {
    "colab": {
     "base_uri": "https://localhost:8080/",
     "height": 495
    },
    "executionInfo": {
     "elapsed": 2672712,
     "status": "ok",
     "timestamp": 1589447460569,
     "user": {
      "displayName": "Suchit Majumdar",
      "photoUrl": "",
      "userId": "17036306179367680212"
     },
     "user_tz": -330
    },
    "id": "YhRkgHJn8yIk",
    "outputId": "824a45c0-1400-4e70-fefd-f6ddd9d88730"
   },
   "outputs": [
    {
     "data": {
      "text/plain": [
       "(-0.5, 2499.5, 1999.5, -0.5)"
      ]
     },
     "execution_count": 47,
     "metadata": {
      "tags": []
     },
     "output_type": "execute_result"
    },
    {
     "data": {
      "image/png": "[encoded data removed]",
      "text/plain": [
       "<Figure size 720x720 with 1 Axes>"
      ]
     },
     "metadata": {
      "needs_background": "light",
      "tags": []
     },
     "output_type": "display_data"
    }
   ],
   "source": [
    "plt.figure(figsize=(10, 10))\n",
    "plt.imshow(wordcloud)\n",
    "plt.axis('off')"
   ]
  },
  {
   "cell_type": "markdown",
   "metadata": {
    "id": "pd6kd6w8QaBD"
   },
   "source": [
    "**Observations:**\n",
    "\n",
    "- The most common words in the positive reviews are **perfect**, **awesome**, **perfectly**, **excellent**, etc.\n",
    "\n",
    "- These words are usually used to indicate a **positive sentiment**."
   ]
  },
  {
   "cell_type": "markdown",
   "metadata": {
    "id": "hvdgZrspQaBE"
   },
   "source": [
    "### **Question 11: What are the Most Common Words in Neutral Reviews?** "
   ]
  },
  {
   "cell_type": "markdown",
   "metadata": {
    "id": "DZ3B69YD_5-g"
   },
   "source": [
    "- For **neutral** reviews, we are setting `star_rating` to **3** and `polarity` to **0**."
   ]
  },
  {
   "cell_type": "code",
   "execution_count": null,
   "metadata": {
    "id": "oH5IDcDYQaWV"
   },
   "outputs": [],
   "source": [
    "wordcloud = WordCloud(width=2500, height=2000, max_words=50,\n",
    "                      background_color='White'\n",
    "                      ).generate(str(reviews_df[(reviews_df['star_rating'] == 3) &\n",
    "                                 (reviews_df['polarity'] == 0)].sample(10000, random_state=0)['clean_reviews']))"
   ]
  },
  {
   "cell_type": "code",
   "execution_count": null,
   "metadata": {
    "colab": {
     "base_uri": "https://localhost:8080/",
     "height": 495
    },
    "executionInfo": {
     "elapsed": 2683304,
     "status": "ok",
     "timestamp": 1589447471166,
     "user": {
      "displayName": "Suchit Majumdar",
      "photoUrl": "",
      "userId": "17036306179367680212"
     },
     "user_tz": -330
    },
    "id": "zY3WftetP-Vb",
    "outputId": "06b1cef7-a0ee-412c-ecf0-61daaaf9129d"
   },
   "outputs": [
    {
     "data": {
      "text/plain": [
       "(-0.5, 2499.5, 1999.5, -0.5)"
      ]
     },
     "execution_count": 49,
     "metadata": {
      "tags": []
     },
     "output_type": "execute_result"
    },
    {
     "data": {
      "image/png": "[encoded data removed]",
      "text/plain": [
       "<Figure size 720x720 with 1 Axes>"
      ]
     },
     "metadata": {
      "needs_background": "light",
      "tags": []
     },
     "output_type": "display_data"
    }
   ],
   "source": [
    "plt.figure(figsize=(10, 10))\n",
    "plt.imshow(wordcloud)\n",
    "plt.axis('off')"
   ]
  },
  {
   "cell_type": "markdown",
   "metadata": {
    "id": "L_-nWceXQaWY"
   },
   "source": [
    "**Observations:**\n",
    "\n",
    "- The *most common words for neutral reviews* are **charge**, **use**, **monitor**, **anyone**, etc.\n",
    "\n",
    "- These words **don't express** a **clear sentiment** and hence are appropriate for neutral reviews."
   ]
  },
  {
   "cell_type": "markdown",
   "metadata": {
    "id": "osbK_OhVeBuU"
   },
   "source": [
    "### **Question 12: What are the Most Common Words in Negative Reviews?** "
   ]
  },
  {
   "cell_type": "markdown",
   "metadata": {
    "id": "xiMDRzUQ_-ci"
   },
   "source": [
    "- For **negative** reviews, we are setting `star_rating` to **1** and `polarity` to **-1**."
   ]
  },
  {
   "cell_type": "code",
   "execution_count": null,
   "metadata": {
    "id": "xgpC5_ezeBuV"
   },
   "outputs": [],
   "source": [
    "wordcloud = WordCloud(width=2500, height=2000, max_words=50,\n",
    "                      background_color='White'\n",
    "                      ).generate(str(reviews_df[(reviews_df['star_rating'] == 1) &\n",
    "                                 (reviews_df['polarity'] == -1)]['clean_reviews']))"
   ]
  },
  {
   "cell_type": "code",
   "execution_count": null,
   "metadata": {
    "colab": {
     "base_uri": "https://localhost:8080/",
     "height": 495
    },
    "executionInfo": {
     "elapsed": 2692514,
     "status": "ok",
     "timestamp": 1589447480381,
     "user": {
      "displayName": "Suchit Majumdar",
      "photoUrl": "",
      "userId": "17036306179367680212"
     },
     "user_tz": -330
    },
    "id": "IyXT8F7B-4n7",
    "outputId": "a7974eb2-2bc7-4255-9892-08d9fd47dd59"
   },
   "outputs": [
    {
     "data": {
      "text/plain": [
       "(-0.5, 2499.5, 1999.5, -0.5)"
      ]
     },
     "execution_count": 51,
     "metadata": {
      "tags": []
     },
     "output_type": "execute_result"
    },
    {
     "data": {
      "image/png": "[encoded data removed]",
      "text/plain": [
       "<Figure size 720x720 with 1 Axes>"
      ]
     },
     "metadata": {
      "needs_background": "light",
      "tags": []
     },
     "output_type": "display_data"
    }
   ],
   "source": [
    "plt.figure(figsize=(10, 10))\n",
    "plt.imshow(wordcloud)\n",
    "plt.axis('off')"
   ]
  },
  {
   "cell_type": "markdown",
   "metadata": {
    "id": "Ghg-vONEeBua"
   },
   "source": [
    "**Observations:**\n",
    "\n",
    "- The most common words for negative reviews are **horrible**, **worst**, **terrible**, **awful**, **broke**, etc.\n",
    "\n",
    "- These words **clearly express** a **negative emotion** and are appropriate for negative reviews."
   ]
  },
  {
   "cell_type": "markdown",
   "metadata": {
    "id": "y47Osv3uqtgI"
   },
   "source": [
    "<a id = Section7></a>\n",
    "## **7. Post Data Processing & Analysis**"
   ]
  },
  {
   "cell_type": "markdown",
   "metadata": {
    "id": "cvNU1jYs0iwM"
   },
   "source": [
    "- After completing the analysis on the data, we can move on towards fitting our Machine Learning models with our data.\n",
    "\n",
    "- But, our dataset still contains a lot of **redundant columns** in our data which won't help the model in making predictions.\n",
    "\n",
    "- Also, we need to **remove samples** having **subjectivity lower than** the *subjectivity threshold* value of **0.3**\n",
    "\n",
    "- And, we need to create a `sentiment` column containing the **labels** for our machine learning model.\n",
    "\n",
    "- In this section, we will **remove** all the redundant columns, **drop samples** that doesn't satisfy our selection criteria, and then **create** a `sentiment` column.\n",
    "\n",
    "- We will also be **splitting** the data into two subsets for training and testing purposes."
   ]
  },
  {
   "cell_type": "markdown",
   "metadata": {
    "id": "sp9xG95sCRcx"
   },
   "source": [
    "<a id = Section701></a>\n",
    "### **7.1 Removing Redundant Columns**"
   ]
  },
  {
   "cell_type": "markdown",
   "metadata": {
    "id": "GE_-BwyEEuyy"
   },
   "source": [
    "- We will **remove** every **redundant column** from our dataset.\n",
    "\n",
    "- We will create a **new dataframe** containing only the **essential features** and use this dataframe down the line."
   ]
  },
  {
   "cell_type": "code",
   "execution_count": null,
   "metadata": {
    "colab": {
     "base_uri": "https://localhost:8080/",
     "height": 202
    },
    "executionInfo": {
     "elapsed": 2713490,
     "status": "ok",
     "timestamp": 1589447501374,
     "user": {
      "displayName": "Suchit Majumdar",
      "photoUrl": "",
      "userId": "17036306179367680212"
     },
     "user_tz": -330
    },
    "id": "-yB0gVYhq0UM",
    "outputId": "31db6aa6-50d0-4721-99fb-961635738f28"
   },
   "outputs": [
    {
     "data": {
      "text/html": [
       "<div>\n",
       "<style scoped>\n",
       "    .dataframe tbody tr th:only-of-type {\n",
       "        vertical-align: middle;\n",
       "    }\n",
       "\n",
       "    .dataframe tbody tr th {\n",
       "        vertical-align: top;\n",
       "    }\n",
       "\n",
       "    .dataframe thead th {\n",
       "        text-align: right;\n",
       "    }\n",
       "</style>\n",
       "<table border=\"1\" class=\"dataframe\">\n",
       "  <thead>\n",
       "    <tr style=\"text-align: right;\">\n",
       "      <th></th>\n",
       "      <th>star_rating</th>\n",
       "      <th>clean_reviews</th>\n",
       "      <th>polarity</th>\n",
       "      <th>subjectivity</th>\n",
       "    </tr>\n",
       "  </thead>\n",
       "  <tbody>\n",
       "    <tr>\n",
       "      <th>0</th>\n",
       "      <td>5</td>\n",
       "      <td>as described</td>\n",
       "      <td>0.0000</td>\n",
       "      <td>0.000</td>\n",
       "    </tr>\n",
       "    <tr>\n",
       "      <th>1</th>\n",
       "      <td>5</td>\n",
       "      <td>it works as advertising</td>\n",
       "      <td>0.0000</td>\n",
       "      <td>0.000</td>\n",
       "    </tr>\n",
       "    <tr>\n",
       "      <th>2</th>\n",
       "      <td>5</td>\n",
       "      <td>works pissa</td>\n",
       "      <td>0.0000</td>\n",
       "      <td>0.000</td>\n",
       "    </tr>\n",
       "    <tr>\n",
       "      <th>3</th>\n",
       "      <td>1</td>\n",
       "      <td>did not work at all</td>\n",
       "      <td>0.0000</td>\n",
       "      <td>0.000</td>\n",
       "    </tr>\n",
       "    <tr>\n",
       "      <th>4</th>\n",
       "      <td>5</td>\n",
       "      <td>works well bass is somewhat lacking but is present overall pleased with the item</td>\n",
       "      <td>0.0875</td>\n",
       "      <td>0.375</td>\n",
       "    </tr>\n",
       "  </tbody>\n",
       "</table>\n",
       "</div>"
      ],
      "text/plain": [
       "   star_rating  \\\n",
       "0            5   \n",
       "1            5   \n",
       "2            5   \n",
       "3            1   \n",
       "4            5   \n",
       "\n",
       "                                                                      clean_reviews  \\\n",
       "0                                                                      as described   \n",
       "1                                                           it works as advertising   \n",
       "2                                                                       works pissa   \n",
       "3                                                               did not work at all   \n",
       "4  works well bass is somewhat lacking but is present overall pleased with the item   \n",
       "\n",
       "   polarity  subjectivity  \n",
       "0    0.0000         0.000  \n",
       "1    0.0000         0.000  \n",
       "2    0.0000         0.000  \n",
       "3    0.0000         0.000  \n",
       "4    0.0875         0.375  "
      ]
     },
     "execution_count": 58,
     "metadata": {
      "tags": []
     },
     "output_type": "execute_result"
    }
   ],
   "source": [
    "# Removing redundant columns from reviews_df\n",
    "essential_df = reviews_df[['star_rating', 'clean_reviews', 'polarity', 'subjectivity']]\n",
    "essential_df.head()"
   ]
  },
  {
   "cell_type": "markdown",
   "metadata": {
    "id": "s6fguUWjD3HK"
   },
   "source": [
    "- The **new dataframe** only contains the **essential** features: `star_rating`, `clean_reviews`, `polarity`, `subjectivity`."
   ]
  },
  {
   "cell_type": "markdown",
   "metadata": {
    "id": "QI6iAif5bPTU"
   },
   "source": [
    "<a id = Section702></a>\n",
    "### **7.2 Removing Samples Having Subjectivity Less Than 0.3**"
   ]
  },
  {
   "cell_type": "markdown",
   "metadata": {
    "id": "oVhRdTSx66U-"
   },
   "source": [
    "- Here, we will **remove** the **samples** having **subjectivity lower than** the subjectivity threshold value of **0.3**"
   ]
  },
  {
   "cell_type": "code",
   "execution_count": null,
   "metadata": {
    "colab": {
     "base_uri": "https://localhost:8080/",
     "height": 35
    },
    "executionInfo": {
     "elapsed": 2713489,
     "status": "ok",
     "timestamp": 1589447501376,
     "user": {
      "displayName": "Suchit Majumdar",
      "photoUrl": "",
      "userId": "17036306179367680212"
     },
     "user_tz": -330
    },
    "id": "nExQWo5ZSG3w",
    "outputId": "d31329bb-3938-4665-db3d-ed69e84d2fd0"
   },
   "outputs": [
    {
     "data": {
      "text/plain": [
       "0.0"
      ]
     },
     "execution_count": 59,
     "metadata": {
      "tags": []
     },
     "output_type": "execute_result"
    }
   ],
   "source": [
    "# Checking the current minimum value of subjectivity\n",
    "essential_df['subjectivity'].min()"
   ]
  },
  {
   "cell_type": "code",
   "execution_count": null,
   "metadata": {
    "id": "it_p6yRXRkoq"
   },
   "outputs": [],
   "source": [
    "essential_df = essential_df[essential_df['subjectivity'] >= 0.3]"
   ]
  },
  {
   "cell_type": "code",
   "execution_count": null,
   "metadata": {
    "colab": {
     "base_uri": "https://localhost:8080/",
     "height": 35
    },
    "executionInfo": {
     "elapsed": 2713485,
     "status": "ok",
     "timestamp": 1589447501377,
     "user": {
      "displayName": "Suchit Majumdar",
      "photoUrl": "",
      "userId": "17036306179367680212"
     },
     "user_tz": -330
    },
    "id": "7Y_HTbkWSTWZ",
    "outputId": "5e4ef3c4-188b-4694-c7f9-a38f31185c4f"
   },
   "outputs": [
    {
     "data": {
      "text/plain": [
       "0.3"
      ]
     },
     "execution_count": 61,
     "metadata": {
      "tags": []
     },
     "output_type": "execute_result"
    }
   ],
   "source": [
    "# Checking the minimum value of subjectivity after removing samples\n",
    "essential_df['subjectivity'].min()"
   ]
  },
  {
   "cell_type": "markdown",
   "metadata": {
    "id": "p4duFLjDRkyM"
   },
   "source": [
    "- The **minimun value** of **subjectivity** has increased from 0 to **0.3**\n",
    "\n",
    "- We have successfully **removed** every **sample** having *subjectivity less than 0.3*"
   ]
  },
  {
   "cell_type": "markdown",
   "metadata": {
    "id": "1cTCCwA_Cdej"
   },
   "source": [
    "<a id = Section703></a>\n",
    "### **7.3 Creating Sentiment Column**"
   ]
  },
  {
   "cell_type": "markdown",
   "metadata": {
    "id": "Bg26g827CefY"
   },
   "source": [
    "- Now, we will create a `sentiment` column which will provide the labels for our training samples used in the Machine Learning models.\n",
    "\n",
    "- We will use both the `star_rating` and `polarity` values to **divide** our reviews into different **sentiments**."
   ]
  },
  {
   "cell_type": "markdown",
   "metadata": {
    "id": "PAruMnfxYaiP"
   },
   "source": [
    "- For **positive** reviews, we are using a `star_rating` **higher than 3** and a `polarity` value **greater than or equal to 0.5**.\n",
    "\n",
    "- We have to use such a *high value of polarity* due to the **large volume** of *positive reviews*.\n",
    "\n",
    "- We need to **reduce** the **size** of our **dataset** for training, otherwise our **session will crash**, due to *shortage of RAM*."
   ]
  },
  {
   "cell_type": "code",
   "execution_count": null,
   "metadata": {
    "colab": {
     "base_uri": "https://localhost:8080/",
     "height": 202
    },
    "executionInfo": {
     "elapsed": 2713484,
     "status": "ok",
     "timestamp": 1589447501378,
     "user": {
      "displayName": "Suchit Majumdar",
      "photoUrl": "",
      "userId": "17036306179367680212"
     },
     "user_tz": -330
    },
    "id": "Q0_m3cBvCdp8",
    "outputId": "2713a3d7-9641-4e1b-9865-51a344859fab"
   },
   "outputs": [
    {
     "data": {
      "text/html": [
       "<div>\n",
       "<style scoped>\n",
       "    .dataframe tbody tr th:only-of-type {\n",
       "        vertical-align: middle;\n",
       "    }\n",
       "\n",
       "    .dataframe tbody tr th {\n",
       "        vertical-align: top;\n",
       "    }\n",
       "\n",
       "    .dataframe thead th {\n",
       "        text-align: right;\n",
       "    }\n",
       "</style>\n",
       "<table border=\"1\" class=\"dataframe\">\n",
       "  <thead>\n",
       "    <tr style=\"text-align: right;\">\n",
       "      <th></th>\n",
       "      <th>star_rating</th>\n",
       "      <th>clean_reviews</th>\n",
       "      <th>polarity</th>\n",
       "      <th>subjectivity</th>\n",
       "    </tr>\n",
       "  </thead>\n",
       "  <tbody>\n",
       "    <tr>\n",
       "      <th>6</th>\n",
       "      <td>5</td>\n",
       "      <td>wish i could give this product more than five stars lifesaver</td>\n",
       "      <td>0.500</td>\n",
       "      <td>0.5000</td>\n",
       "    </tr>\n",
       "    <tr>\n",
       "      <th>7</th>\n",
       "      <td>5</td>\n",
       "      <td>works great</td>\n",
       "      <td>0.800</td>\n",
       "      <td>0.7500</td>\n",
       "    </tr>\n",
       "    <tr>\n",
       "      <th>8</th>\n",
       "      <td>4</td>\n",
       "      <td>great sound and compact battery life seems good happy with this product</td>\n",
       "      <td>0.675</td>\n",
       "      <td>0.6875</td>\n",
       "    </tr>\n",
       "    <tr>\n",
       "      <th>10</th>\n",
       "      <td>5</td>\n",
       "      <td>alll good</td>\n",
       "      <td>0.700</td>\n",
       "      <td>0.6000</td>\n",
       "    </tr>\n",
       "    <tr>\n",
       "      <th>13</th>\n",
       "      <td>5</td>\n",
       "      <td>excellent gain in radio frequency reception over the stock antenna that came with the radio</td>\n",
       "      <td>1.000</td>\n",
       "      <td>1.0000</td>\n",
       "    </tr>\n",
       "  </tbody>\n",
       "</table>\n",
       "</div>"
      ],
      "text/plain": [
       "    star_rating  \\\n",
       "6             5   \n",
       "7             5   \n",
       "8             4   \n",
       "10            5   \n",
       "13            5   \n",
       "\n",
       "                                                                                  clean_reviews  \\\n",
       "6                                 wish i could give this product more than five stars lifesaver   \n",
       "7                                                                                   works great   \n",
       "8                       great sound and compact battery life seems good happy with this product   \n",
       "10                                                                                    alll good   \n",
       "13  excellent gain in radio frequency reception over the stock antenna that came with the radio   \n",
       "\n",
       "    polarity  subjectivity  \n",
       "6      0.500        0.5000  \n",
       "7      0.800        0.7500  \n",
       "8      0.675        0.6875  \n",
       "10     0.700        0.6000  \n",
       "13     1.000        1.0000  "
      ]
     },
     "execution_count": 62,
     "metadata": {
      "tags": []
     },
     "output_type": "execute_result"
    }
   ],
   "source": [
    "essential_df[(essential_df['star_rating'] > 3) & (essential_df['polarity'] >= 0.5)].head()"
   ]
  },
  {
   "cell_type": "code",
   "execution_count": null,
   "metadata": {
    "id": "LsqLYaExY_uS"
   },
   "outputs": [],
   "source": [
    "positive_df = essential_df[(essential_df['star_rating'] > 3) & (essential_df['polarity'] >= 0.5)]"
   ]
  },
  {
   "cell_type": "code",
   "execution_count": null,
   "metadata": {
    "id": "0-wBusLMam1E"
   },
   "outputs": [],
   "source": [
    "positive_df['sentiment'] = 'positive'"
   ]
  },
  {
   "cell_type": "code",
   "execution_count": null,
   "metadata": {
    "colab": {
     "base_uri": "https://localhost:8080/",
     "height": 202
    },
    "executionInfo": {
     "elapsed": 2713479,
     "status": "ok",
     "timestamp": 1589447501382,
     "user": {
      "displayName": "Suchit Majumdar",
      "photoUrl": "",
      "userId": "17036306179367680212"
     },
     "user_tz": -330
    },
    "id": "IXTne32sanBE",
    "outputId": "79ec53a5-95e2-42e2-9cc7-c2ccddafe95a"
   },
   "outputs": [
    {
     "data": {
      "text/html": [
       "<div>\n",
       "<style scoped>\n",
       "    .dataframe tbody tr th:only-of-type {\n",
       "        vertical-align: middle;\n",
       "    }\n",
       "\n",
       "    .dataframe tbody tr th {\n",
       "        vertical-align: top;\n",
       "    }\n",
       "\n",
       "    .dataframe thead th {\n",
       "        text-align: right;\n",
       "    }\n",
       "</style>\n",
       "<table border=\"1\" class=\"dataframe\">\n",
       "  <thead>\n",
       "    <tr style=\"text-align: right;\">\n",
       "      <th></th>\n",
       "      <th>star_rating</th>\n",
       "      <th>clean_reviews</th>\n",
       "      <th>polarity</th>\n",
       "      <th>subjectivity</th>\n",
       "      <th>sentiment</th>\n",
       "    </tr>\n",
       "  </thead>\n",
       "  <tbody>\n",
       "    <tr>\n",
       "      <th>6</th>\n",
       "      <td>5</td>\n",
       "      <td>wish i could give this product more than five stars lifesaver</td>\n",
       "      <td>0.500</td>\n",
       "      <td>0.5000</td>\n",
       "      <td>positive</td>\n",
       "    </tr>\n",
       "    <tr>\n",
       "      <th>7</th>\n",
       "      <td>5</td>\n",
       "      <td>works great</td>\n",
       "      <td>0.800</td>\n",
       "      <td>0.7500</td>\n",
       "      <td>positive</td>\n",
       "    </tr>\n",
       "    <tr>\n",
       "      <th>8</th>\n",
       "      <td>4</td>\n",
       "      <td>great sound and compact battery life seems good happy with this product</td>\n",
       "      <td>0.675</td>\n",
       "      <td>0.6875</td>\n",
       "      <td>positive</td>\n",
       "    </tr>\n",
       "    <tr>\n",
       "      <th>10</th>\n",
       "      <td>5</td>\n",
       "      <td>alll good</td>\n",
       "      <td>0.700</td>\n",
       "      <td>0.6000</td>\n",
       "      <td>positive</td>\n",
       "    </tr>\n",
       "    <tr>\n",
       "      <th>13</th>\n",
       "      <td>5</td>\n",
       "      <td>excellent gain in radio frequency reception over the stock antenna that came with the radio</td>\n",
       "      <td>1.000</td>\n",
       "      <td>1.0000</td>\n",
       "      <td>positive</td>\n",
       "    </tr>\n",
       "  </tbody>\n",
       "</table>\n",
       "</div>"
      ],
      "text/plain": [
       "    star_rating  \\\n",
       "6             5   \n",
       "7             5   \n",
       "8             4   \n",
       "10            5   \n",
       "13            5   \n",
       "\n",
       "                                                                                  clean_reviews  \\\n",
       "6                                 wish i could give this product more than five stars lifesaver   \n",
       "7                                                                                   works great   \n",
       "8                       great sound and compact battery life seems good happy with this product   \n",
       "10                                                                                    alll good   \n",
       "13  excellent gain in radio frequency reception over the stock antenna that came with the radio   \n",
       "\n",
       "    polarity  subjectivity sentiment  \n",
       "6      0.500        0.5000  positive  \n",
       "7      0.800        0.7500  positive  \n",
       "8      0.675        0.6875  positive  \n",
       "10     0.700        0.6000  positive  \n",
       "13     1.000        1.0000  positive  "
      ]
     },
     "execution_count": 65,
     "metadata": {
      "tags": []
     },
     "output_type": "execute_result"
    }
   ],
   "source": [
    "positive_df.head()"
   ]
  },
  {
   "cell_type": "markdown",
   "metadata": {
    "id": "CLPmTKf4YpjT"
   },
   "source": [
    "- For **neutral** reviews, we are using a `star_rating` **equal to 3** and a `polarity` value **between -0.1 and 0.1**."
   ]
  },
  {
   "cell_type": "code",
   "execution_count": null,
   "metadata": {
    "colab": {
     "base_uri": "https://localhost:8080/",
     "height": 358
    },
    "executionInfo": {
     "elapsed": 2713477,
     "status": "ok",
     "timestamp": 1589447501383,
     "user": {
      "displayName": "Suchit Majumdar",
      "photoUrl": "",
      "userId": "17036306179367680212"
     },
     "user_tz": -330
    },
    "id": "LUSgJEmIVphS",
    "outputId": "9895cdb5-3677-4c05-9407-389447a06d07"
   },
   "outputs": [
    {
     "data": {
      "text/html": [
       "<div>\n",
       "<style scoped>\n",
       "    .dataframe tbody tr th:only-of-type {\n",
       "        vertical-align: middle;\n",
       "    }\n",
       "\n",
       "    .dataframe tbody tr th {\n",
       "        vertical-align: top;\n",
       "    }\n",
       "\n",
       "    .dataframe thead th {\n",
       "        text-align: right;\n",
       "    }\n",
       "</style>\n",
       "<table border=\"1\" class=\"dataframe\">\n",
       "  <thead>\n",
       "    <tr style=\"text-align: right;\">\n",
       "      <th></th>\n",
       "      <th>star_rating</th>\n",
       "      <th>clean_reviews</th>\n",
       "      <th>polarity</th>\n",
       "      <th>subjectivity</th>\n",
       "    </tr>\n",
       "  </thead>\n",
       "  <tbody>\n",
       "    <tr>\n",
       "      <th>120</th>\n",
       "      <td>3</td>\n",
       "      <td>these do not hold as long of a charge as the green capped compeditors even though the mw hr is advertised to be higher however these do work as batteries and will hold a wouldecent charge however the charge is shorter lived than other batteries of the same type i have tried i do use these often also these did fry one of my usb ports so use only in outlet usb ports</td>\n",
       "      <td>-0.0208</td>\n",
       "      <td>0.4500</td>\n",
       "    </tr>\n",
       "    <tr>\n",
       "      <th>147</th>\n",
       "      <td>3</td>\n",
       "      <td>i bought this to replace a lost neoprene case for my qc20i earbuds this case is just ok br br it seems very cheaply made and it is kind of hard to use because the zipper is a little stiff if it was more expensive i would have returned it but there is really no point i would get a buck or two back after return shipping</td>\n",
       "      <td>0.0827</td>\n",
       "      <td>0.5252</td>\n",
       "    </tr>\n",
       "    <tr>\n",
       "      <th>186</th>\n",
       "      <td>3</td>\n",
       "      <td>product is just okay volume level is not very good i am used to going louder charge only lasts for maybe 2 5 hours of continuous use this is my first pair of bluetooth earbuds i feel gullible because i was going to purchase a pair for around 20$ and i thought the price point was too low so instead i purchased these i think maybe for a tryout pair i could have gone with the 20$ pair</td>\n",
       "      <td>0.0962</td>\n",
       "      <td>0.5190</td>\n",
       "    </tr>\n",
       "    <tr>\n",
       "      <th>206</th>\n",
       "      <td>3</td>\n",
       "      <td>well i purchased this masione® surge protector strip 2500w 6 outlet black power socket with lightningproof last week and since it arrived it has changed names and has changed the description now not mentioning surge protection i am not sure if my computer and $200 router are safe with this outlet strip it provides power and is compact i chose it for its straight plug which was needed to go into a recessed floor outlet but wanted something that had surge protection because of its use under my desk</td>\n",
       "      <td>0.0567</td>\n",
       "      <td>0.4578</td>\n",
       "    </tr>\n",
       "    <tr>\n",
       "      <th>217</th>\n",
       "      <td>3</td>\n",
       "      <td>i bought these as a gift so i never wore them but they looked a little flimsy to me i would not personally buy them for myself</td>\n",
       "      <td>-0.0938</td>\n",
       "      <td>0.4000</td>\n",
       "    </tr>\n",
       "  </tbody>\n",
       "</table>\n",
       "</div>"
      ],
      "text/plain": [
       "     star_rating  \\\n",
       "120            3   \n",
       "147            3   \n",
       "186            3   \n",
       "206            3   \n",
       "217            3   \n",
       "\n",
       "                                                                                                                                                                                                                                                                                                                                                                                                                                                                                                             clean_reviews  \\\n",
       "120                                                                                                                                         these do not hold as long of a charge as the green capped compeditors even though the mw hr is advertised to be higher however these do work as batteries and will hold a wouldecent charge however the charge is shorter lived than other batteries of the same type i have tried i do use these often also these did fry one of my usb ports so use only in outlet usb ports   \n",
       "147                                                                                                                                                                                        i bought this to replace a lost neoprene case for my qc20i earbuds this case is just ok br br it seems very cheaply made and it is kind of hard to use because the zipper is a little stiff if it was more expensive i would have returned it but there is really no point i would get a buck or two back after return shipping   \n",
       "186                                                                                                                       product is just okay volume level is not very good i am used to going louder charge only lasts for maybe 2 5 hours of continuous use this is my first pair of bluetooth earbuds i feel gullible because i was going to purchase a pair for around 20$ and i thought the price point was too low so instead i purchased these i think maybe for a tryout pair i could have gone with the 20$ pair   \n",
       "206  well i purchased this masione® surge protector strip 2500w 6 outlet black power socket with lightningproof last week and since it arrived it has changed names and has changed the description now not mentioning surge protection i am not sure if my computer and $200 router are safe with this outlet strip it provides power and is compact i chose it for its straight plug which was needed to go into a recessed floor outlet but wanted something that had surge protection because of its use under my desk   \n",
       "217                                                                                                                                                                                                                                                                                                                                                                                         i bought these as a gift so i never wore them but they looked a little flimsy to me i would not personally buy them for myself   \n",
       "\n",
       "     polarity  subjectivity  \n",
       "120   -0.0208        0.4500  \n",
       "147    0.0827        0.5252  \n",
       "186    0.0962        0.5190  \n",
       "206    0.0567        0.4578  \n",
       "217   -0.0938        0.4000  "
      ]
     },
     "execution_count": 66,
     "metadata": {
      "tags": []
     },
     "output_type": "execute_result"
    }
   ],
   "source": [
    "essential_df[(essential_df['star_rating'] == 3) & (essential_df['polarity'] >= -0.1) & (essential_df['polarity'] <= 0.1)].head()"
   ]
  },
  {
   "cell_type": "code",
   "execution_count": null,
   "metadata": {
    "id": "i309gOLNcB2O"
   },
   "outputs": [],
   "source": [
    "neutral_df = essential_df[(essential_df['star_rating'] == 3) & (essential_df['polarity'] >= -0.1) & (essential_df['polarity'] <= 0.1)]"
   ]
  },
  {
   "cell_type": "code",
   "execution_count": null,
   "metadata": {
    "id": "7wpQ5sKxcB2S"
   },
   "outputs": [],
   "source": [
    "neutral_df['sentiment'] = 'neutral'"
   ]
  },
  {
   "cell_type": "code",
   "execution_count": null,
   "metadata": {
    "colab": {
     "base_uri": "https://localhost:8080/",
     "height": 427
    },
    "executionInfo": {
     "elapsed": 2713472,
     "status": "ok",
     "timestamp": 1589447501386,
     "user": {
      "displayName": "Suchit Majumdar",
      "photoUrl": "",
      "userId": "17036306179367680212"
     },
     "user_tz": -330
    },
    "id": "abwt69glcB2V",
    "outputId": "1a2b6b4e-ca2e-4d2b-830e-cfe008757337"
   },
   "outputs": [
    {
     "data": {
      "text/html": [
       "<div>\n",
       "<style scoped>\n",
       "    .dataframe tbody tr th:only-of-type {\n",
       "        vertical-align: middle;\n",
       "    }\n",
       "\n",
       "    .dataframe tbody tr th {\n",
       "        vertical-align: top;\n",
       "    }\n",
       "\n",
       "    .dataframe thead th {\n",
       "        text-align: right;\n",
       "    }\n",
       "</style>\n",
       "<table border=\"1\" class=\"dataframe\">\n",
       "  <thead>\n",
       "    <tr style=\"text-align: right;\">\n",
       "      <th></th>\n",
       "      <th>star_rating</th>\n",
       "      <th>clean_reviews</th>\n",
       "      <th>polarity</th>\n",
       "      <th>subjectivity</th>\n",
       "      <th>sentiment</th>\n",
       "    </tr>\n",
       "  </thead>\n",
       "  <tbody>\n",
       "    <tr>\n",
       "      <th>120</th>\n",
       "      <td>3</td>\n",
       "      <td>these do not hold as long of a charge as the green capped compeditors even though the mw hr is advertised to be higher however these do work as batteries and will hold a wouldecent charge however the charge is shorter lived than other batteries of the same type i have tried i do use these often also these did fry one of my usb ports so use only in outlet usb ports</td>\n",
       "      <td>-0.0208</td>\n",
       "      <td>0.4500</td>\n",
       "      <td>neutral</td>\n",
       "    </tr>\n",
       "    <tr>\n",
       "      <th>147</th>\n",
       "      <td>3</td>\n",
       "      <td>i bought this to replace a lost neoprene case for my qc20i earbuds this case is just ok br br it seems very cheaply made and it is kind of hard to use because the zipper is a little stiff if it was more expensive i would have returned it but there is really no point i would get a buck or two back after return shipping</td>\n",
       "      <td>0.0827</td>\n",
       "      <td>0.5252</td>\n",
       "      <td>neutral</td>\n",
       "    </tr>\n",
       "    <tr>\n",
       "      <th>186</th>\n",
       "      <td>3</td>\n",
       "      <td>product is just okay volume level is not very good i am used to going louder charge only lasts for maybe 2 5 hours of continuous use this is my first pair of bluetooth earbuds i feel gullible because i was going to purchase a pair for around 20$ and i thought the price point was too low so instead i purchased these i think maybe for a tryout pair i could have gone with the 20$ pair</td>\n",
       "      <td>0.0962</td>\n",
       "      <td>0.5190</td>\n",
       "      <td>neutral</td>\n",
       "    </tr>\n",
       "    <tr>\n",
       "      <th>206</th>\n",
       "      <td>3</td>\n",
       "      <td>well i purchased this masione® surge protector strip 2500w 6 outlet black power socket with lightningproof last week and since it arrived it has changed names and has changed the description now not mentioning surge protection i am not sure if my computer and $200 router are safe with this outlet strip it provides power and is compact i chose it for its straight plug which was needed to go into a recessed floor outlet but wanted something that had surge protection because of its use under my desk</td>\n",
       "      <td>0.0567</td>\n",
       "      <td>0.4578</td>\n",
       "      <td>neutral</td>\n",
       "    </tr>\n",
       "    <tr>\n",
       "      <th>217</th>\n",
       "      <td>3</td>\n",
       "      <td>i bought these as a gift so i never wore them but they looked a little flimsy to me i would not personally buy them for myself</td>\n",
       "      <td>-0.0938</td>\n",
       "      <td>0.4000</td>\n",
       "      <td>neutral</td>\n",
       "    </tr>\n",
       "  </tbody>\n",
       "</table>\n",
       "</div>"
      ],
      "text/plain": [
       "     star_rating  \\\n",
       "120            3   \n",
       "147            3   \n",
       "186            3   \n",
       "206            3   \n",
       "217            3   \n",
       "\n",
       "                                                                                                                                                                                                                                                                                                                                                                                                                                                                                                             clean_reviews  \\\n",
       "120                                                                                                                                         these do not hold as long of a charge as the green capped compeditors even though the mw hr is advertised to be higher however these do work as batteries and will hold a wouldecent charge however the charge is shorter lived than other batteries of the same type i have tried i do use these often also these did fry one of my usb ports so use only in outlet usb ports   \n",
       "147                                                                                                                                                                                        i bought this to replace a lost neoprene case for my qc20i earbuds this case is just ok br br it seems very cheaply made and it is kind of hard to use because the zipper is a little stiff if it was more expensive i would have returned it but there is really no point i would get a buck or two back after return shipping   \n",
       "186                                                                                                                       product is just okay volume level is not very good i am used to going louder charge only lasts for maybe 2 5 hours of continuous use this is my first pair of bluetooth earbuds i feel gullible because i was going to purchase a pair for around 20$ and i thought the price point was too low so instead i purchased these i think maybe for a tryout pair i could have gone with the 20$ pair   \n",
       "206  well i purchased this masione® surge protector strip 2500w 6 outlet black power socket with lightningproof last week and since it arrived it has changed names and has changed the description now not mentioning surge protection i am not sure if my computer and $200 router are safe with this outlet strip it provides power and is compact i chose it for its straight plug which was needed to go into a recessed floor outlet but wanted something that had surge protection because of its use under my desk   \n",
       "217                                                                                                                                                                                                                                                                                                                                                                                         i bought these as a gift so i never wore them but they looked a little flimsy to me i would not personally buy them for myself   \n",
       "\n",
       "     polarity  subjectivity sentiment  \n",
       "120   -0.0208        0.4500   neutral  \n",
       "147    0.0827        0.5252   neutral  \n",
       "186    0.0962        0.5190   neutral  \n",
       "206    0.0567        0.4578   neutral  \n",
       "217   -0.0938        0.4000   neutral  "
      ]
     },
     "execution_count": 69,
     "metadata": {
      "tags": []
     },
     "output_type": "execute_result"
    }
   ],
   "source": [
    "neutral_df.head()"
   ]
  },
  {
   "cell_type": "markdown",
   "metadata": {
    "id": "ryzTBA36Cdzb"
   },
   "source": [
    "- For **negative** reviews, we are using a `star_rating` **less than 3** and a `polarity` value **less than 0**."
   ]
  },
  {
   "cell_type": "code",
   "execution_count": null,
   "metadata": {
    "colab": {
     "base_uri": "https://localhost:8080/",
     "height": 289
    },
    "executionInfo": {
     "elapsed": 2713470,
     "status": "ok",
     "timestamp": 1589447501386,
     "user": {
      "displayName": "Suchit Majumdar",
      "photoUrl": "",
      "userId": "17036306179367680212"
     },
     "user_tz": -330
    },
    "id": "n-wnKWYiVpev",
    "outputId": "ac697e94-2382-4671-839a-68d925178d71"
   },
   "outputs": [
    {
     "data": {
      "text/html": [
       "<div>\n",
       "<style scoped>\n",
       "    .dataframe tbody tr th:only-of-type {\n",
       "        vertical-align: middle;\n",
       "    }\n",
       "\n",
       "    .dataframe tbody tr th {\n",
       "        vertical-align: top;\n",
       "    }\n",
       "\n",
       "    .dataframe thead th {\n",
       "        text-align: right;\n",
       "    }\n",
       "</style>\n",
       "<table border=\"1\" class=\"dataframe\">\n",
       "  <thead>\n",
       "    <tr style=\"text-align: right;\">\n",
       "      <th></th>\n",
       "      <th>star_rating</th>\n",
       "      <th>clean_reviews</th>\n",
       "      <th>polarity</th>\n",
       "      <th>subjectivity</th>\n",
       "    </tr>\n",
       "  </thead>\n",
       "  <tbody>\n",
       "    <tr>\n",
       "      <th>49</th>\n",
       "      <td>2</td>\n",
       "      <td>horrible</td>\n",
       "      <td>-1.0000</td>\n",
       "      <td>1.0000</td>\n",
       "    </tr>\n",
       "    <tr>\n",
       "      <th>75</th>\n",
       "      <td>1</td>\n",
       "      <td>day 20 november 2014 acquired the jbl portable load indoor outdoor bluetooth speaker black and hardly used it and 6 16 15 she has stopped working just take full charge when left more than 24 hours yet their working time is no more than 2hs the few times i used was always loaded with accessories that accompanied it i live in brasilia df brazil not with the product warranty or aq even there in the usa she when turned on provides a noise as if in short circuit and after a while for the noise only is working connected to the charger br it is expensive and that left me high and dry br disappointed</td>\n",
       "      <td>-0.0719</td>\n",
       "      <td>0.4677</td>\n",
       "    </tr>\n",
       "    <tr>\n",
       "      <th>90</th>\n",
       "      <td>1</td>\n",
       "      <td>sorry this cable worked for about a week then broke i had ordered others before and same result my fault for thinking things would change thought i had gotten a bad set but that is the rule not the exception i will try the more expensives ones from bose</td>\n",
       "      <td>-0.1750</td>\n",
       "      <td>0.5729</td>\n",
       "    </tr>\n",
       "    <tr>\n",
       "      <th>98</th>\n",
       "      <td>1</td>\n",
       "      <td>i was unable to use them because they hurt my ears i used them for a total 30 min and my ears felt like they were bruised</td>\n",
       "      <td>-0.2500</td>\n",
       "      <td>0.6250</td>\n",
       "    </tr>\n",
       "    <tr>\n",
       "      <th>118</th>\n",
       "      <td>2</td>\n",
       "      <td>too expensive &amp; reception is not great a $10 antenna does the same job</td>\n",
       "      <td>-0.3000</td>\n",
       "      <td>0.5250</td>\n",
       "    </tr>\n",
       "  </tbody>\n",
       "</table>\n",
       "</div>"
      ],
      "text/plain": [
       "     star_rating  \\\n",
       "49             2   \n",
       "75             1   \n",
       "90             1   \n",
       "98             1   \n",
       "118            2   \n",
       "\n",
       "                                                                                                                                                                                                                                                                                                                                                                                                                                                                                                                                                                                                               clean_reviews  \\\n",
       "49                                                                                                                                                                                                                                                                                                                                                                                                                                                                                                                                                                                                                  horrible   \n",
       "75   day 20 november 2014 acquired the jbl portable load indoor outdoor bluetooth speaker black and hardly used it and 6 16 15 she has stopped working just take full charge when left more than 24 hours yet their working time is no more than 2hs the few times i used was always loaded with accessories that accompanied it i live in brasilia df brazil not with the product warranty or aq even there in the usa she when turned on provides a noise as if in short circuit and after a while for the noise only is working connected to the charger br it is expensive and that left me high and dry br disappointed   \n",
       "90                                                                                                                                                                                                                                                                                                                                                             sorry this cable worked for about a week then broke i had ordered others before and same result my fault for thinking things would change thought i had gotten a bad set but that is the rule not the exception i will try the more expensives ones from bose   \n",
       "98                                                                                                                                                                                                                                                                                                                                                                                                                                                                                                 i was unable to use them because they hurt my ears i used them for a total 30 min and my ears felt like they were bruised   \n",
       "118                                                                                                                                                                                                                                                                                                                                                                                                                                                                                                                                                   too expensive & reception is not great a $10 antenna does the same job   \n",
       "\n",
       "     polarity  subjectivity  \n",
       "49    -1.0000        1.0000  \n",
       "75    -0.0719        0.4677  \n",
       "90    -0.1750        0.5729  \n",
       "98    -0.2500        0.6250  \n",
       "118   -0.3000        0.5250  "
      ]
     },
     "execution_count": 70,
     "metadata": {
      "tags": []
     },
     "output_type": "execute_result"
    }
   ],
   "source": [
    "essential_df[(essential_df['star_rating'] < 3) & (essential_df['polarity'] < 0)].head()"
   ]
  },
  {
   "cell_type": "code",
   "execution_count": null,
   "metadata": {
    "id": "BugQNkXPcQql"
   },
   "outputs": [],
   "source": [
    "negative_df = essential_df[(essential_df['star_rating'] < 3) & (essential_df['polarity'] < 0)]"
   ]
  },
  {
   "cell_type": "code",
   "execution_count": null,
   "metadata": {
    "id": "6kcZQOT4cQq1"
   },
   "outputs": [],
   "source": [
    "negative_df['sentiment'] = 'negative'"
   ]
  },
  {
   "cell_type": "code",
   "execution_count": null,
   "metadata": {
    "colab": {
     "base_uri": "https://localhost:8080/",
     "height": 323
    },
    "executionInfo": {
     "elapsed": 2713464,
     "status": "ok",
     "timestamp": 1589447501390,
     "user": {
      "displayName": "Suchit Majumdar",
      "photoUrl": "",
      "userId": "17036306179367680212"
     },
     "user_tz": -330
    },
    "id": "MIbTIpp0cQq9",
    "outputId": "2bb1935f-d930-418c-aae8-4f194695b661"
   },
   "outputs": [
    {
     "data": {
      "text/html": [
       "<div>\n",
       "<style scoped>\n",
       "    .dataframe tbody tr th:only-of-type {\n",
       "        vertical-align: middle;\n",
       "    }\n",
       "\n",
       "    .dataframe tbody tr th {\n",
       "        vertical-align: top;\n",
       "    }\n",
       "\n",
       "    .dataframe thead th {\n",
       "        text-align: right;\n",
       "    }\n",
       "</style>\n",
       "<table border=\"1\" class=\"dataframe\">\n",
       "  <thead>\n",
       "    <tr style=\"text-align: right;\">\n",
       "      <th></th>\n",
       "      <th>star_rating</th>\n",
       "      <th>clean_reviews</th>\n",
       "      <th>polarity</th>\n",
       "      <th>subjectivity</th>\n",
       "      <th>sentiment</th>\n",
       "    </tr>\n",
       "  </thead>\n",
       "  <tbody>\n",
       "    <tr>\n",
       "      <th>49</th>\n",
       "      <td>2</td>\n",
       "      <td>horrible</td>\n",
       "      <td>-1.0000</td>\n",
       "      <td>1.0000</td>\n",
       "      <td>negative</td>\n",
       "    </tr>\n",
       "    <tr>\n",
       "      <th>75</th>\n",
       "      <td>1</td>\n",
       "      <td>day 20 november 2014 acquired the jbl portable load indoor outdoor bluetooth speaker black and hardly used it and 6 16 15 she has stopped working just take full charge when left more than 24 hours yet their working time is no more than 2hs the few times i used was always loaded with accessories that accompanied it i live in brasilia df brazil not with the product warranty or aq even there in the usa she when turned on provides a noise as if in short circuit and after a while for the noise only is working connected to the charger br it is expensive and that left me high and dry br disappointed</td>\n",
       "      <td>-0.0719</td>\n",
       "      <td>0.4677</td>\n",
       "      <td>negative</td>\n",
       "    </tr>\n",
       "    <tr>\n",
       "      <th>90</th>\n",
       "      <td>1</td>\n",
       "      <td>sorry this cable worked for about a week then broke i had ordered others before and same result my fault for thinking things would change thought i had gotten a bad set but that is the rule not the exception i will try the more expensives ones from bose</td>\n",
       "      <td>-0.1750</td>\n",
       "      <td>0.5729</td>\n",
       "      <td>negative</td>\n",
       "    </tr>\n",
       "    <tr>\n",
       "      <th>98</th>\n",
       "      <td>1</td>\n",
       "      <td>i was unable to use them because they hurt my ears i used them for a total 30 min and my ears felt like they were bruised</td>\n",
       "      <td>-0.2500</td>\n",
       "      <td>0.6250</td>\n",
       "      <td>negative</td>\n",
       "    </tr>\n",
       "    <tr>\n",
       "      <th>118</th>\n",
       "      <td>2</td>\n",
       "      <td>too expensive &amp; reception is not great a $10 antenna does the same job</td>\n",
       "      <td>-0.3000</td>\n",
       "      <td>0.5250</td>\n",
       "      <td>negative</td>\n",
       "    </tr>\n",
       "  </tbody>\n",
       "</table>\n",
       "</div>"
      ],
      "text/plain": [
       "     star_rating  \\\n",
       "49             2   \n",
       "75             1   \n",
       "90             1   \n",
       "98             1   \n",
       "118            2   \n",
       "\n",
       "                                                                                                                                                                                                                                                                                                                                                                                                                                                                                                                                                                                                               clean_reviews  \\\n",
       "49                                                                                                                                                                                                                                                                                                                                                                                                                                                                                                                                                                                                                  horrible   \n",
       "75   day 20 november 2014 acquired the jbl portable load indoor outdoor bluetooth speaker black and hardly used it and 6 16 15 she has stopped working just take full charge when left more than 24 hours yet their working time is no more than 2hs the few times i used was always loaded with accessories that accompanied it i live in brasilia df brazil not with the product warranty or aq even there in the usa she when turned on provides a noise as if in short circuit and after a while for the noise only is working connected to the charger br it is expensive and that left me high and dry br disappointed   \n",
       "90                                                                                                                                                                                                                                                                                                                                                             sorry this cable worked for about a week then broke i had ordered others before and same result my fault for thinking things would change thought i had gotten a bad set but that is the rule not the exception i will try the more expensives ones from bose   \n",
       "98                                                                                                                                                                                                                                                                                                                                                                                                                                                                                                 i was unable to use them because they hurt my ears i used them for a total 30 min and my ears felt like they were bruised   \n",
       "118                                                                                                                                                                                                                                                                                                                                                                                                                                                                                                                                                   too expensive & reception is not great a $10 antenna does the same job   \n",
       "\n",
       "     polarity  subjectivity sentiment  \n",
       "49    -1.0000        1.0000  negative  \n",
       "75    -0.0719        0.4677  negative  \n",
       "90    -0.1750        0.5729  negative  \n",
       "98    -0.2500        0.6250  negative  \n",
       "118   -0.3000        0.5250  negative  "
      ]
     },
     "execution_count": 73,
     "metadata": {
      "tags": []
     },
     "output_type": "execute_result"
    }
   ],
   "source": [
    "negative_df.head()"
   ]
  },
  {
   "cell_type": "markdown",
   "metadata": {
    "id": "q4kag3QTcdEi"
   },
   "source": [
    "- **Joining** all **3** dataframes to create our final dataset."
   ]
  },
  {
   "cell_type": "code",
   "execution_count": null,
   "metadata": {
    "colab": {
     "base_uri": "https://localhost:8080/",
     "height": 202
    },
    "executionInfo": {
     "elapsed": 2713463,
     "status": "ok",
     "timestamp": 1589447501391,
     "user": {
      "displayName": "Suchit Majumdar",
      "photoUrl": "",
      "userId": "17036306179367680212"
     },
     "user_tz": -330
    },
    "id": "pCv_raOaY4mO",
    "outputId": "3071f0e1-49c1-454a-8cfb-8908bc657f4f"
   },
   "outputs": [
    {
     "data": {
      "text/html": [
       "<div>\n",
       "<style scoped>\n",
       "    .dataframe tbody tr th:only-of-type {\n",
       "        vertical-align: middle;\n",
       "    }\n",
       "\n",
       "    .dataframe tbody tr th {\n",
       "        vertical-align: top;\n",
       "    }\n",
       "\n",
       "    .dataframe thead th {\n",
       "        text-align: right;\n",
       "    }\n",
       "</style>\n",
       "<table border=\"1\" class=\"dataframe\">\n",
       "  <thead>\n",
       "    <tr style=\"text-align: right;\">\n",
       "      <th></th>\n",
       "      <th>star_rating</th>\n",
       "      <th>clean_reviews</th>\n",
       "      <th>polarity</th>\n",
       "      <th>subjectivity</th>\n",
       "      <th>sentiment</th>\n",
       "    </tr>\n",
       "  </thead>\n",
       "  <tbody>\n",
       "    <tr>\n",
       "      <th>0</th>\n",
       "      <td>5</td>\n",
       "      <td>wish i could give this product more than five stars lifesaver</td>\n",
       "      <td>0.500</td>\n",
       "      <td>0.5000</td>\n",
       "      <td>positive</td>\n",
       "    </tr>\n",
       "    <tr>\n",
       "      <th>1</th>\n",
       "      <td>5</td>\n",
       "      <td>works great</td>\n",
       "      <td>0.800</td>\n",
       "      <td>0.7500</td>\n",
       "      <td>positive</td>\n",
       "    </tr>\n",
       "    <tr>\n",
       "      <th>2</th>\n",
       "      <td>4</td>\n",
       "      <td>great sound and compact battery life seems good happy with this product</td>\n",
       "      <td>0.675</td>\n",
       "      <td>0.6875</td>\n",
       "      <td>positive</td>\n",
       "    </tr>\n",
       "    <tr>\n",
       "      <th>3</th>\n",
       "      <td>5</td>\n",
       "      <td>alll good</td>\n",
       "      <td>0.700</td>\n",
       "      <td>0.6000</td>\n",
       "      <td>positive</td>\n",
       "    </tr>\n",
       "    <tr>\n",
       "      <th>4</th>\n",
       "      <td>5</td>\n",
       "      <td>excellent gain in radio frequency reception over the stock antenna that came with the radio</td>\n",
       "      <td>1.000</td>\n",
       "      <td>1.0000</td>\n",
       "      <td>positive</td>\n",
       "    </tr>\n",
       "  </tbody>\n",
       "</table>\n",
       "</div>"
      ],
      "text/plain": [
       "   star_rating  \\\n",
       "0            5   \n",
       "1            5   \n",
       "2            4   \n",
       "3            5   \n",
       "4            5   \n",
       "\n",
       "                                                                                 clean_reviews  \\\n",
       "0                                wish i could give this product more than five stars lifesaver   \n",
       "1                                                                                  works great   \n",
       "2                      great sound and compact battery life seems good happy with this product   \n",
       "3                                                                                    alll good   \n",
       "4  excellent gain in radio frequency reception over the stock antenna that came with the radio   \n",
       "\n",
       "   polarity  subjectivity sentiment  \n",
       "0     0.500        0.5000  positive  \n",
       "1     0.800        0.7500  positive  \n",
       "2     0.675        0.6875  positive  \n",
       "3     0.700        0.6000  positive  \n",
       "4     1.000        1.0000  positive  "
      ]
     },
     "execution_count": 74,
     "metadata": {
      "tags": []
     },
     "output_type": "execute_result"
    }
   ],
   "source": [
    "sentiment_df = pd.concat([positive_df, neutral_df, negative_df], ignore_index=True)\n",
    "sentiment_df.head()"
   ]
  },
  {
   "cell_type": "code",
   "execution_count": null,
   "metadata": {
    "colab": {
     "base_uri": "https://localhost:8080/",
     "height": 375
    },
    "executionInfo": {
     "elapsed": 2713461,
     "status": "ok",
     "timestamp": 1589447501392,
     "user": {
      "displayName": "Suchit Majumdar",
      "photoUrl": "",
      "userId": "17036306179367680212"
     },
     "user_tz": -330
    },
    "id": "sJ8eXzLzdCUT",
    "outputId": "0b97f7f6-41ba-492b-ca79-e30eb015bacc"
   },
   "outputs": [
    {
     "data": {
      "text/html": [
       "<div>\n",
       "<style scoped>\n",
       "    .dataframe tbody tr th:only-of-type {\n",
       "        vertical-align: middle;\n",
       "    }\n",
       "\n",
       "    .dataframe tbody tr th {\n",
       "        vertical-align: top;\n",
       "    }\n",
       "\n",
       "    .dataframe thead th {\n",
       "        text-align: right;\n",
       "    }\n",
       "</style>\n",
       "<table border=\"1\" class=\"dataframe\">\n",
       "  <thead>\n",
       "    <tr style=\"text-align: right;\">\n",
       "      <th></th>\n",
       "      <th>star_rating</th>\n",
       "      <th>clean_reviews</th>\n",
       "      <th>polarity</th>\n",
       "      <th>subjectivity</th>\n",
       "      <th>sentiment</th>\n",
       "    </tr>\n",
       "  </thead>\n",
       "  <tbody>\n",
       "    <tr>\n",
       "      <th>762084</th>\n",
       "      <td>2</td>\n",
       "      <td>this antenna when installed outside provided only slight improvement over &amp;quotrabbit ear&amp;quot antenna for local station reception</td>\n",
       "      <td>-0.0417</td>\n",
       "      <td>0.3042</td>\n",
       "      <td>negative</td>\n",
       "    </tr>\n",
       "    <tr>\n",
       "      <th>762085</th>\n",
       "      <td>1</td>\n",
       "      <td>although the concept is good diamond has done a poor job of designing the product as well as a poor job of supporting it the volume is too low even at its highest setting the hold switch is poorly designed so that you cannot tell if its engaged the clip holding the battery in is easily broken and the add on 32meg external memory did not work when it arrived overall a very poor job</td>\n",
       "      <td>-0.1170</td>\n",
       "      <td>0.4230</td>\n",
       "      <td>negative</td>\n",
       "    </tr>\n",
       "    <tr>\n",
       "      <th>762086</th>\n",
       "      <td>1</td>\n",
       "      <td>it does skip a bunch which makes it difficult to listen to when not stationary</td>\n",
       "      <td>-0.5000</td>\n",
       "      <td>1.0000</td>\n",
       "      <td>negative</td>\n",
       "    </tr>\n",
       "    <tr>\n",
       "      <th>762087</th>\n",
       "      <td>2</td>\n",
       "      <td>the sony discman has its benifits but is a bad choice for the long run i have owned two of them in a 9 month period the first failed to play within the first three months and the seconds esp did not work after two months and after 4 more months ceased to play at all</td>\n",
       "      <td>-0.0417</td>\n",
       "      <td>0.4222</td>\n",
       "      <td>negative</td>\n",
       "    </tr>\n",
       "    <tr>\n",
       "      <th>762088</th>\n",
       "      <td>1</td>\n",
       "      <td>i agree with some of the above comments esp the first my sony discman was useless after a few months and refused to play even if you just moved in your seat with it on and it would trip out to the beginning of the cd it was replaced and the same happens again now the esp function is the worst available and you can get much better makes for the same priceor less anti shock and durabilty is so important in personal cd players and it is the things that sony have overlooked in this model</td>\n",
       "      <td>-0.0264</td>\n",
       "      <td>0.3542</td>\n",
       "      <td>negative</td>\n",
       "    </tr>\n",
       "  </tbody>\n",
       "</table>\n",
       "</div>"
      ],
      "text/plain": [
       "        star_rating  \\\n",
       "762084            2   \n",
       "762085            1   \n",
       "762086            1   \n",
       "762087            2   \n",
       "762088            1   \n",
       "\n",
       "                                                                                                                                                                                                                                                                                                                                                                                                                                                                                                   clean_reviews  \\\n",
       "762084                                                                                                                                                                                                                                                                                                                                                                        this antenna when installed outside provided only slight improvement over &quotrabbit ear&quot antenna for local station reception   \n",
       "762085                                                                                                           although the concept is good diamond has done a poor job of designing the product as well as a poor job of supporting it the volume is too low even at its highest setting the hold switch is poorly designed so that you cannot tell if its engaged the clip holding the battery in is easily broken and the add on 32meg external memory did not work when it arrived overall a very poor job   \n",
       "762086                                                                                                                                                                                                                                                                                                                                                                                                                            it does skip a bunch which makes it difficult to listen to when not stationary   \n",
       "762087                                                                                                                                                                                                                                the sony discman has its benifits but is a bad choice for the long run i have owned two of them in a 9 month period the first failed to play within the first three months and the seconds esp did not work after two months and after 4 more months ceased to play at all   \n",
       "762088  i agree with some of the above comments esp the first my sony discman was useless after a few months and refused to play even if you just moved in your seat with it on and it would trip out to the beginning of the cd it was replaced and the same happens again now the esp function is the worst available and you can get much better makes for the same priceor less anti shock and durabilty is so important in personal cd players and it is the things that sony have overlooked in this model   \n",
       "\n",
       "        polarity  subjectivity sentiment  \n",
       "762084   -0.0417        0.3042  negative  \n",
       "762085   -0.1170        0.4230  negative  \n",
       "762086   -0.5000        1.0000  negative  \n",
       "762087   -0.0417        0.4222  negative  \n",
       "762088   -0.0264        0.3542  negative  "
      ]
     },
     "execution_count": 75,
     "metadata": {
      "tags": []
     },
     "output_type": "execute_result"
    }
   ],
   "source": [
    "sentiment_df.tail()"
   ]
  },
  {
   "cell_type": "markdown",
   "metadata": {
    "id": "dNIEh9DJY357"
   },
   "source": [
    "- The final dataset contains the **selected reviews** along with their respective **sentiments**."
   ]
  },
  {
   "cell_type": "markdown",
   "metadata": {
    "id": "f2dHAU--Ikta"
   },
   "source": [
    "**Proportional Distribution of Sentiments**"
   ]
  },
  {
   "cell_type": "code",
   "execution_count": null,
   "metadata": {
    "colab": {
     "base_uri": "https://localhost:8080/",
     "height": 503
    },
    "executionInfo": {
     "elapsed": 2713459,
     "status": "ok",
     "timestamp": 1589447501393,
     "user": {
      "displayName": "Suchit Majumdar",
      "photoUrl": "",
      "userId": "17036306179367680212"
     },
     "user_tz": -330
    },
    "id": "XT_JB0ILgTpr",
    "outputId": "fd65ef49-0a9e-4916-a3b0-64938ab3efc7"
   },
   "outputs": [
    {
     "data": {
      "text/plain": [
       "Text(0.5, 1.0, 'Proportional Distribution of Sentiments')"
      ]
     },
     "execution_count": 76,
     "metadata": {
      "tags": []
     },
     "output_type": "execute_result"
    },
    {
     "data": {
      "image/png": "[encoded data removed]",
      "text/plain": [
       "<Figure size 576x576 with 1 Axes>"
      ]
     },
     "metadata": {
      "tags": []
     },
     "output_type": "display_data"
    }
   ],
   "source": [
    "# Plotting the proportional distribution of sentiments\n",
    "sentiment_df['sentiment'].value_counts().plot(kind='pie', autopct='%1.1f%%', startangle=80, figsize=(8, 8),\n",
    "                                            fontsize=14, legend=True, cmap='summer')\n",
    "plt.ylabel('Sentiments', fontsize=16)\n",
    "plt.title('Proportional Distribution of Sentiments', fontsize=18)"
   ]
  },
  {
   "cell_type": "markdown",
   "metadata": {
    "id": "ql5lSrrOi9tq"
   },
   "source": [
    "**Observations:**\n",
    "\n",
    "- Our final dataset contains about **72.4% positive** reviews, **20.1% negative** reviews, and **7.6% neutral** reviews."
   ]
  },
  {
   "cell_type": "markdown",
   "metadata": {
    "id": "AM83lFdVuoRP"
   },
   "source": [
    "**Saving the Final Dataset as a CSV File**"
   ]
  },
  {
   "cell_type": "markdown",
   "metadata": {
    "id": "ElGnP5fk8sgo"
   },
   "source": [
    "- We will **save** our final dataset as a **csv file** in the local system.\n",
    "\n",
    "- This will allow us to **resume** from this point onwards if we want to make changes to the model building process."
   ]
  },
  {
   "cell_type": "code",
   "execution_count": null,
   "metadata": {
    "id": "kkOlWSmm8TXR"
   },
   "outputs": [],
   "source": [
    "# Saving the dataframe to a csv file.\n",
    "sentiment_df.to_csv('review_data.csv', index=False, encoding='utf-8')"
   ]
  },
  {
   "cell_type": "code",
   "execution_count": null,
   "metadata": {
    "id": "kwmMUMbrAw5Z"
   },
   "outputs": [],
   "source": [
    "# To load the saved csv file into a dataframe\n",
    "sentiment_df = pd.read_csv('review_data.csv')\n",
    "sentiment_df.head()"
   ]
  },
  {
   "cell_type": "markdown",
   "metadata": {
    "id": "KVyKSjyiEn2m"
   },
   "source": [
    "<a id = Section704></a>\n",
    "### **7.4 Data Splitting**"
   ]
  },
  {
   "cell_type": "markdown",
   "metadata": {
    "id": "dvD-0p4SEtZA"
   },
   "source": [
    "- Now, we will **split** the dataset into **Train** and **Test** subsets.\n",
    "\n",
    "- We will use **80%** data for **training** and the remaining **20%** data for **testing** our models."
   ]
  },
  {
   "cell_type": "markdown",
   "metadata": {
    "id": "unJi683NIBk9"
   },
   "source": [
    "- First, we will **separate** the **reviews** and their respective sentiment **labels** from the data."
   ]
  },
  {
   "cell_type": "code",
   "execution_count": null,
   "metadata": {
    "colab": {
     "base_uri": "https://localhost:8080/",
     "height": 121
    },
    "executionInfo": {
     "elapsed": 2719363,
     "status": "ok",
     "timestamp": 1589447507305,
     "user": {
      "displayName": "Suchit Majumdar",
      "photoUrl": "",
      "userId": "17036306179367680212"
     },
     "user_tz": -330
    },
    "id": "kugoy5wXFzvY",
    "outputId": "d3230f97-7a11-41e8-bddd-1676ee82e8ce"
   },
   "outputs": [
    {
     "data": {
      "text/plain": [
       "array(['wish i could give this product more than five stars lifesaver',\n",
       "       'works great',\n",
       "       'great sound and compact battery life seems good happy with this product',\n",
       "       'alll good',\n",
       "       'excellent gain in radio frequency reception over the stock antenna that came with the radio'],\n",
       "      dtype=object)"
      ]
     },
     "execution_count": 79,
     "metadata": {
      "tags": []
     },
     "output_type": "execute_result"
    }
   ],
   "source": [
    "# Separating the Reviews from the dataset\n",
    "X = sentiment_df['clean_reviews'].values\n",
    "X[:5]"
   ]
  },
  {
   "cell_type": "code",
   "execution_count": null,
   "metadata": {
    "colab": {
     "base_uri": "https://localhost:8080/",
     "height": 52
    },
    "executionInfo": {
     "elapsed": 2719361,
     "status": "ok",
     "timestamp": 1589447507306,
     "user": {
      "displayName": "Suchit Majumdar",
      "photoUrl": "",
      "userId": "17036306179367680212"
     },
     "user_tz": -330
    },
    "id": "7t9Z667DFz5N",
    "outputId": "a2196341-b5a8-4775-d257-f24d77c1140e"
   },
   "outputs": [
    {
     "data": {
      "text/plain": [
       "array(['positive', 'positive', 'positive', 'positive', 'positive'],\n",
       "      dtype=object)"
      ]
     },
     "execution_count": 80,
     "metadata": {
      "tags": []
     },
     "output_type": "execute_result"
    }
   ],
   "source": [
    "# Separating the labels\n",
    "y = sentiment_df['sentiment'].values\n",
    "y[:5]"
   ]
  },
  {
   "cell_type": "markdown",
   "metadata": {
    "id": "0ikLPYnxIaXH"
   },
   "source": [
    "- After **separating** the *reviews* and *labels*, we will **split** the data into **train** and **test sets**."
   ]
  },
  {
   "cell_type": "code",
   "execution_count": null,
   "metadata": {
    "id": "uqDSjEtUWwmc"
   },
   "outputs": [],
   "source": [
    "# Using scikit-learn's train_test_split function to split the dataset into train and test sets.\n",
    "# 80% of the data will be in the train set and 20% in the test set, as specified by test_size=0.2\n",
    "X_train, X_test, y_train, y_test = train_test_split(X, y, test_size=0.2, random_state=42)"
   ]
  },
  {
   "cell_type": "code",
   "execution_count": null,
   "metadata": {
    "colab": {
     "base_uri": "https://localhost:8080/",
     "height": 52
    },
    "executionInfo": {
     "elapsed": 2719356,
     "status": "ok",
     "timestamp": 1589447507307,
     "user": {
      "displayName": "Suchit Majumdar",
      "photoUrl": "",
      "userId": "17036306179367680212"
     },
     "user_tz": -330
    },
    "id": "X6PAxhZkWwkl",
    "outputId": "233b9e4e-da6f-4b7d-9302-ff9338e2e4ab"
   },
   "outputs": [
    {
     "name": "stdout",
     "output_type": "stream",
     "text": [
      "Training Data Shape: (609671,) (609671,)\n",
      "Testing Data Shape: (152418,) (152418,)\n"
     ]
    }
   ],
   "source": [
    "# Checking the shapes of the training and test sets.\n",
    "print('Training Data Shape:', X_train.shape, y_train.shape)\n",
    "print('Testing Data Shape:', X_test.shape, y_test.shape)"
   ]
  },
  {
   "cell_type": "markdown",
   "metadata": {
    "id": "q9z9IDJuHF_T"
   },
   "source": [
    "- The data has been **divided** into training and test sets."
   ]
  },
  {
   "cell_type": "markdown",
   "metadata": {
    "id": "ts5svLN2q3Zg"
   },
   "source": [
    "<a id = Section8></a>\n",
    "## **8. Model Development & Evaluation**"
   ]
  },
  {
   "cell_type": "markdown",
   "metadata": {
    "id": "WODsIBl40Mq1"
   },
   "source": [
    "- In this section, we will be **building** our Machine Learning models and fitting them with the training data."
   ]
  },
  {
   "cell_type": "markdown",
   "metadata": {
    "id": "-b9K_yORI3eO"
   },
   "source": [
    "<a id = Section801></a>\n",
    "### **8.1 Building Machine Learning Model**"
   ]
  },
  {
   "cell_type": "markdown",
   "metadata": {
    "id": "yVcgjkFzOYwR"
   },
   "source": [
    "- Building a `tokenizer` function that will **split** each review into a **list of tokens**.\n",
    "\n",
    "- A **token** is a **single word** in this case, and the review will be splitted on a **single white space**."
   ]
  },
  {
   "cell_type": "code",
   "execution_count": null,
   "metadata": {
    "id": "g88Ylo18-n-x"
   },
   "outputs": [],
   "source": [
    "def tokenizer(text):\n",
    "    return text.split()"
   ]
  },
  {
   "cell_type": "markdown",
   "metadata": {
    "id": "rxFlZ-EZOZbm"
   },
   "source": [
    "- Building a **TFIDF Vectorizer**.\n",
    "\n",
    "- In this, first we create a **vocabulary** of **unique tokens** from the entire set of **documents** (i. e. **reviews**).\n",
    "\n",
    "- Then we construct a **feature vector** from each document that contains the **term frequency** of how often each word occurs in a particular document.\n",
    "\n",
    "- Term Frequency is the **number of times** a term, **t**, **occurs** in a document, **d**.\n",
    "\n",
    "- TFIDF stands for **term frequency-inverse document frequency** (tf-idf).\n",
    "\n",
    "  - It is used to **downweight** the **frequently occurring words** in the feature vectors that typically don't contain useful or discriminatory information.\n"
   ]
  },
  {
   "cell_type": "markdown",
   "metadata": {
    "id": "W_fX-bCwqhjp"
   },
   "source": [
    "  - $tf-idf(t, d) = tf(t, d) * idf(t, d)$\n",
    "\n",
    "    - Here, $tf(t, d)$ is the **term frequency**, and\n",
    "\n",
    "    - $idf(t, d)$ is the **inverse document frequency**\n",
    "\n",
    "<br> \n",
    "\n",
    "  - $idf(t, d) = log(n_d / ( 1+ df(d, t))$\n",
    "\n",
    "    - Here, $n_d$ is the **total number of documents**, and\n",
    "    \n",
    "    - $df(d, t)$ is the **number of documents**, d, that **contain** the **term t**."
   ]
  },
  {
   "cell_type": "markdown",
   "metadata": {
    "id": "VCaD7oVvqfL5"
   },
   "source": [
    "- This will create a matrix of **15000** most common words, based on their term frequency in the data, as the **columns**."
   ]
  },
  {
   "cell_type": "code",
   "execution_count": null,
   "metadata": {
    "id": "l3SdrP6ln2oH"
   },
   "outputs": [],
   "source": [
    "tfidf = TfidfVectorizer(max_features=15000, tokenizer=tokenizer)"
   ]
  },
  {
   "cell_type": "markdown",
   "metadata": {
    "id": "fCrvtjRNQZaY"
   },
   "source": [
    "- Creating a **Machine Learning Pipeline**.\n",
    "\n",
    "- This will first, **vectorize** the data, creating a **TFIDF feature matrix** from the dataset, then will **pass** this **data** to our **classifier**.\n",
    "\n",
    "- The classifier in this case is the **Multinomial Naive Bayes** classifier.\n",
    "\n",
    "- This algorithm is **most suited** for **vectorized text** that contains a *large number of features*.\n",
    "\n",
    "- Creating a pipeline allows us to **streamline** our Machine Learning workflow by performing **multiple steps** in a single pass."
   ]
  },
  {
   "cell_type": "code",
   "execution_count": null,
   "metadata": {
    "id": "HE1IWSOEOZxf"
   },
   "outputs": [],
   "source": [
    "tfidf_mnb = Pipeline([('vect', tfidf), ('clf', MultinomialNB())])"
   ]
  },
  {
   "cell_type": "markdown",
   "metadata": {
    "id": "WxBcaCL3QaHC"
   },
   "source": [
    "- **Fitting** our **pipeline** with the training data."
   ]
  },
  {
   "cell_type": "code",
   "execution_count": null,
   "metadata": {
    "colab": {
     "base_uri": "https://localhost:8080/",
     "height": 312
    },
    "executionInfo": {
     "elapsed": 2733607,
     "status": "ok",
     "timestamp": 1589447521569,
     "user": {
      "displayName": "Suchit Majumdar",
      "photoUrl": "",
      "userId": "17036306179367680212"
     },
     "user_tz": -330
    },
    "id": "guKUrBVBOZxi",
    "outputId": "93e27aa0-2aa4-4e56-c0dd-4d5e59289428"
   },
   "outputs": [
    {
     "data": {
      "text/plain": [
       "Pipeline(memory=None,\n",
       "         steps=[('vect',\n",
       "                 TfidfVectorizer(analyzer='word', binary=False,\n",
       "                                 decode_error='strict',\n",
       "                                 dtype=<class 'numpy.float64'>,\n",
       "                                 encoding='utf-8', input='content',\n",
       "                                 lowercase=True, max_df=1.0, max_features=15000,\n",
       "                                 min_df=1, ngram_range=(1, 1), norm='l2',\n",
       "                                 preprocessor=None, smooth_idf=True,\n",
       "                                 stop_words=None, strip_accents=None,\n",
       "                                 sublinear_tf=False,\n",
       "                                 token_pattern='(?u)\\\\b\\\\w\\\\w+\\\\b',\n",
       "                                 tokenizer=<function tokenizer at 0x7fb137241400>,\n",
       "                                 use_idf=True, vocabulary=None)),\n",
       "                ('clf',\n",
       "                 MultinomialNB(alpha=1.0, class_prior=None, fit_prior=True))],\n",
       "         verbose=False)"
      ]
     },
     "execution_count": 86,
     "metadata": {
      "tags": []
     },
     "output_type": "execute_result"
    }
   ],
   "source": [
    "tfidf_mnb.fit(X_train, y_train)"
   ]
  },
  {
   "cell_type": "markdown",
   "metadata": {
    "id": "D2GLrDp5sbMT"
   },
   "source": [
    "**Making Predictions on Test Set**"
   ]
  },
  {
   "cell_type": "code",
   "execution_count": null,
   "metadata": {
    "id": "CEfKYsiRQps1"
   },
   "outputs": [],
   "source": [
    "y_pred = tfidf_mnb.predict(X_test)"
   ]
  },
  {
   "cell_type": "code",
   "execution_count": null,
   "metadata": {
    "colab": {
     "base_uri": "https://localhost:8080/",
     "height": 52
    },
    "executionInfo": {
     "elapsed": 2736542,
     "status": "ok",
     "timestamp": 1589447524509,
     "user": {
      "displayName": "Suchit Majumdar",
      "photoUrl": "",
      "userId": "17036306179367680212"
     },
     "user_tz": -330
    },
    "id": "UOjz0QI8Qvw1",
    "outputId": "7c084ae4-7c01-406a-c872-855a66894a46"
   },
   "outputs": [
    {
     "data": {
      "text/plain": [
       "array(['positive', 'positive', 'positive', 'negative', 'positive'],\n",
       "      dtype='<U8')"
      ]
     },
     "execution_count": 88,
     "metadata": {
      "tags": []
     },
     "output_type": "execute_result"
    }
   ],
   "source": [
    "y_pred[:5]"
   ]
  },
  {
   "cell_type": "markdown",
   "metadata": {
    "id": "tPQWCgyhsfBw"
   },
   "source": [
    "**Model Evaluation**"
   ]
  },
  {
   "cell_type": "markdown",
   "metadata": {
    "id": "97KKHifUskwy"
   },
   "source": [
    "- Checking the model **accuracy** on both train and test sets.\n",
    "\n",
    "- We are using the **classifier**'s `score` method, which calculates the **accuracy score** of the model on a given data."
   ]
  },
  {
   "cell_type": "code",
   "execution_count": null,
   "metadata": {
    "colab": {
     "base_uri": "https://localhost:8080/",
     "height": 35
    },
    "executionInfo": {
     "elapsed": 2749370,
     "status": "ok",
     "timestamp": 1589447537340,
     "user": {
      "displayName": "Suchit Majumdar",
      "photoUrl": "",
      "userId": "17036306179367680212"
     },
     "user_tz": -330
    },
    "id": "xanXprIyPlsb",
    "outputId": "8c26d4d4-cef2-4ab9-ea3f-aeed1a3e4c32"
   },
   "outputs": [
    {
     "name": "stdout",
     "output_type": "stream",
     "text": [
      "Model Accuracy for the Train set: 0.927186958211888\n"
     ]
    }
   ],
   "source": [
    "print('Model Accuracy for the Train set:', tfidf_mnb.score(X_train, y_train))"
   ]
  },
  {
   "cell_type": "code",
   "execution_count": null,
   "metadata": {
    "colab": {
     "base_uri": "https://localhost:8080/",
     "height": 35
    },
    "executionInfo": {
     "elapsed": 2752550,
     "status": "ok",
     "timestamp": 1589447540523,
     "user": {
      "displayName": "Suchit Majumdar",
      "photoUrl": "",
      "userId": "17036306179367680212"
     },
     "user_tz": -330
    },
    "id": "sQall8axOZxm",
    "outputId": "37776f24-22e3-4e9e-e275-18891de8daa6"
   },
   "outputs": [
    {
     "name": "stdout",
     "output_type": "stream",
     "text": [
      "Model Accuracy for the Test set: 0.9233161437625478\n"
     ]
    }
   ],
   "source": [
    "print('Model Accuracy for the Test set:', tfidf_mnb.score(X_test, y_test))"
   ]
  },
  {
   "cell_type": "markdown",
   "metadata": {
    "id": "qqV6Ou-mujTR"
   },
   "source": [
    "**Observations:**\n",
    "\n",
    "- We get an **accuracy** of about **92%** on both of our train set and test set.\n",
    "\n",
    "- This implies that our model is **not overfitting**.\n",
    "\n",
    "- It is **generalizing** well on unseen data, and giving good results."
   ]
  },
  {
   "cell_type": "markdown",
   "metadata": {
    "id": "UoYRtJuzujP7"
   },
   "source": [
    "- Creating **confusion matrix** and **classification report** of our predictions."
   ]
  },
  {
   "cell_type": "code",
   "execution_count": null,
   "metadata": {
    "colab": {
     "base_uri": "https://localhost:8080/",
     "height": 141
    },
    "executionInfo": {
     "elapsed": 2752881,
     "status": "ok",
     "timestamp": 1589447540856,
     "user": {
      "displayName": "Suchit Majumdar",
      "photoUrl": "",
      "userId": "17036306179367680212"
     },
     "user_tz": -330
    },
    "id": "g5ARV3_Knw54",
    "outputId": "e376db55-e2bf-4882-91d3-5a09634a9c19"
   },
   "outputs": [
    {
     "data": {
      "text/html": [
       "<div>\n",
       "<style scoped>\n",
       "    .dataframe tbody tr th:only-of-type {\n",
       "        vertical-align: middle;\n",
       "    }\n",
       "\n",
       "    .dataframe tbody tr th {\n",
       "        vertical-align: top;\n",
       "    }\n",
       "\n",
       "    .dataframe thead th {\n",
       "        text-align: right;\n",
       "    }\n",
       "</style>\n",
       "<table border=\"1\" class=\"dataframe\">\n",
       "  <thead>\n",
       "    <tr style=\"text-align: right;\">\n",
       "      <th></th>\n",
       "      <th>negative</th>\n",
       "      <th>neutral</th>\n",
       "      <th>positive</th>\n",
       "    </tr>\n",
       "  </thead>\n",
       "  <tbody>\n",
       "    <tr>\n",
       "      <th>negative</th>\n",
       "      <td>27947</td>\n",
       "      <td>784</td>\n",
       "      <td>1726</td>\n",
       "    </tr>\n",
       "    <tr>\n",
       "      <th>neutral</th>\n",
       "      <td>6975</td>\n",
       "      <td>3195</td>\n",
       "      <td>1457</td>\n",
       "    </tr>\n",
       "    <tr>\n",
       "      <th>positive</th>\n",
       "      <td>648</td>\n",
       "      <td>98</td>\n",
       "      <td>109588</td>\n",
       "    </tr>\n",
       "  </tbody>\n",
       "</table>\n",
       "</div>"
      ],
      "text/plain": [
       "          negative  neutral  positive\n",
       "negative     27947      784      1726\n",
       "neutral       6975     3195      1457\n",
       "positive       648       98    109588"
      ]
     },
     "execution_count": 91,
     "metadata": {
      "tags": []
     },
     "output_type": "execute_result"
    }
   ],
   "source": [
    "pd.DataFrame(confusion_matrix(y_test, y_pred), columns=['negative', 'neutral', 'positive'], index=['negative', 'neutral', 'positive'])"
   ]
  },
  {
   "cell_type": "code",
   "execution_count": null,
   "metadata": {
    "colab": {
     "base_uri": "https://localhost:8080/",
     "height": 191
    },
    "executionInfo": {
     "elapsed": 2756169,
     "status": "ok",
     "timestamp": 1589447544147,
     "user": {
      "displayName": "Suchit Majumdar",
      "photoUrl": "",
      "userId": "17036306179367680212"
     },
     "user_tz": -330
    },
    "id": "FnGKPidgnw3d",
    "outputId": "5972cb7a-b6bb-4c67-b9bc-a1d020b96424"
   },
   "outputs": [
    {
     "name": "stdout",
     "output_type": "stream",
     "text": [
      "              precision    recall  f1-score   support\n",
      "\n",
      "    negative       0.79      0.92      0.85     30457\n",
      "     neutral       0.78      0.27      0.41     11627\n",
      "    positive       0.97      0.99      0.98    110334\n",
      "\n",
      "    accuracy                           0.92    152418\n",
      "   macro avg       0.85      0.73      0.75    152418\n",
      "weighted avg       0.92      0.92      0.91    152418\n",
      "\n"
     ]
    }
   ],
   "source": [
    "print(classification_report(y_test, y_pred))"
   ]
  },
  {
   "cell_type": "markdown",
   "metadata": {
    "id": "MuTUjD_fyiIP"
   },
   "source": [
    "- Our model is giving **great** results for the **positive** sentiment.\n",
    "  \n",
    "  - This might be due to the **large proportion** of *positive reviews* in the dataset.\n",
    "\n",
    "- The performace for **negative** reviews is also **good** with a **F1 score** of **85%**.\n",
    "\n",
    "- But, our model **struggles** while predicting the *neutral sentiment*.\n",
    "\n",
    "  - This is due to the fact the many neutral sentiment reviews contains **words** which can sometimes be **associated** with both *positive and negative reviews*.\n",
    "\n",
    "  - Also, there are a lot **less** number of **neutral reviews** in the data.\n",
    "\n",
    "  - And, hence leads to a lot of **false negatives** in the neutral sentiment."
   ]
  },
  {
   "cell_type": "markdown",
   "metadata": {
    "id": "l1aukOip1Cbv"
   },
   "source": [
    "- Creating a dataframe containing the **test set reviews** and **sentiments**, along with the **predictions** made by the model for comparison."
   ]
  },
  {
   "cell_type": "code",
   "execution_count": null,
   "metadata": {
    "colab": {
     "base_uri": "https://localhost:8080/",
     "height": 219
    },
    "executionInfo": {
     "elapsed": 2756167,
     "status": "ok",
     "timestamp": 1589447544148,
     "user": {
      "displayName": "Suchit Majumdar",
      "photoUrl": "",
      "userId": "17036306179367680212"
     },
     "user_tz": -330
    },
    "id": "gPgiPLmEnw1D",
    "outputId": "7be21121-cc3a-4d48-d9a2-d7853c24dd78"
   },
   "outputs": [
    {
     "data": {
      "text/html": [
       "<div>\n",
       "<style scoped>\n",
       "    .dataframe tbody tr th:only-of-type {\n",
       "        vertical-align: middle;\n",
       "    }\n",
       "\n",
       "    .dataframe tbody tr th {\n",
       "        vertical-align: top;\n",
       "    }\n",
       "\n",
       "    .dataframe thead th {\n",
       "        text-align: right;\n",
       "    }\n",
       "</style>\n",
       "<table border=\"1\" class=\"dataframe\">\n",
       "  <thead>\n",
       "    <tr style=\"text-align: right;\">\n",
       "      <th></th>\n",
       "      <th>reviews</th>\n",
       "      <th>sentiment</th>\n",
       "      <th>sentiment_tfidf_mnb</th>\n",
       "    </tr>\n",
       "  </thead>\n",
       "  <tbody>\n",
       "    <tr>\n",
       "      <th>0</th>\n",
       "      <td>replacement pads for my sony headphones work perfect wish they still made this model of earhphones</td>\n",
       "      <td>positive</td>\n",
       "      <td>positive</td>\n",
       "    </tr>\n",
       "    <tr>\n",
       "      <th>1</th>\n",
       "      <td>perfect fit</td>\n",
       "      <td>positive</td>\n",
       "      <td>positive</td>\n",
       "    </tr>\n",
       "    <tr>\n",
       "      <th>2</th>\n",
       "      <td>i do a lot of printing and the oem cartridges are getting out of sight this fits the bill and i am happy with it is results</td>\n",
       "      <td>positive</td>\n",
       "      <td>positive</td>\n",
       "    </tr>\n",
       "    <tr>\n",
       "      <th>3</th>\n",
       "      <td>i am not sure what happened but i never rec would the product i ordered or i should say i was out of town for a week but if one of my neighbors picked it up i would have gotten it</td>\n",
       "      <td>negative</td>\n",
       "      <td>negative</td>\n",
       "    </tr>\n",
       "    <tr>\n",
       "      <th>4</th>\n",
       "      <td>works great i used this to run my satellite to my projector</td>\n",
       "      <td>positive</td>\n",
       "      <td>positive</td>\n",
       "    </tr>\n",
       "  </tbody>\n",
       "</table>\n",
       "</div>"
      ],
      "text/plain": [
       "                                                                                                                                                                               reviews  \\\n",
       "0                                                                                   replacement pads for my sony headphones work perfect wish they still made this model of earhphones   \n",
       "1                                                                                                                                                                          perfect fit   \n",
       "2                                                          i do a lot of printing and the oem cartridges are getting out of sight this fits the bill and i am happy with it is results   \n",
       "3  i am not sure what happened but i never rec would the product i ordered or i should say i was out of town for a week but if one of my neighbors picked it up i would have gotten it   \n",
       "4                                                                                                                          works great i used this to run my satellite to my projector   \n",
       "\n",
       "  sentiment sentiment_tfidf_mnb  \n",
       "0  positive            positive  \n",
       "1  positive            positive  \n",
       "2  positive            positive  \n",
       "3  negative            negative  \n",
       "4  positive            positive  "
      ]
     },
     "execution_count": 93,
     "metadata": {
      "tags": []
     },
     "output_type": "execute_result"
    }
   ],
   "source": [
    "evaluation_df = pd.DataFrame({'reviews': X_test, 'sentiment': y_test, 'sentiment_tfidf_mnb': y_pred})\n",
    "evaluation_df.head()"
   ]
  },
  {
   "cell_type": "markdown",
   "metadata": {
    "id": "3pZBiixq127w"
   },
   "source": [
    "**Observations:**\n",
    "\n",
    "- The sentiments we gave to the reviews were based on **star ratings** and the **polarity** value calculating TextBlob's sentiment analysis function.\n",
    "\n",
    "- Now, we can **visually compare** the sentiment **predictions** made by our model on these reviews."
   ]
  },
  {
   "cell_type": "markdown",
   "metadata": {
    "id": "caklQPnlrC99"
   },
   "source": [
    "<a id = Section9></a>\n",
    "## **9. Conclusion**"
   ]
  },
  {
   "cell_type": "markdown",
   "metadata": {
    "id": "QaMojUhorGtD"
   },
   "source": [
    "- We cleaned the reviews by:\n",
    "  - **Changing** the **case** of each word to **lowercase**,\n",
    "  - **Fixing** certain words,\n",
    "  - **Removing** all the **punctuation marks** from each review, and\n",
    "  - **Removing** any additional white space from each review.\n",
    "\n",
    "- Then, we calculate the **polarity** and **subjectivity** values for each review.\n",
    "\n",
    "- This allowed us to **analyze** our data **in-depth** to find relationship between various features like star rating and polarity.\n",
    "\n",
    "- We also calculated a **threshold** for the **subjectivity** value in our reviews.\n",
    "\n",
    "- We then found out the **most common words** associated with different sentiments.\n",
    "\n",
    "- After analyzing the data:\n",
    "  - We **remove** all **redundant columns** from the data,\n",
    "\n",
    "  - **Remove** all the **samples** having **subjectivity less than 0.3** i. e. the subjectivity threshold.\n",
    "\n",
    "  - **Divide reviews into sentiments** based on star rating and polarity.\n",
    "\n",
    "  - At last, we **split** the **data** into training and test sets.\n",
    "\n",
    "- During model building, we first created a **TFIDF matrix** of our data and **trained** a **Multinomial Naive Bayes** model.\n",
    "\n",
    "  - This model was then used to make **predictions** on the test set.\n",
    "\n",
    "  - It achieved an **accuracy** of **92%** on both train and test sets.\n",
    "\n",
    "  - This implied that model is not overfitting and is **generalizing** well on unseen data."
   ]
  }
 ],
 "metadata": {
  "colab": {
   "collapsed_sections": [],
   "machine_shape": "hm",
   "provenance": []
  },
  "kernelspec": {
   "display_name": "Python 3",
   "name": "python3"
  }
 },
 "nbformat": 4,
 "nbformat_minor": 0
}
